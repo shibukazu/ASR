{
 "cells": [
  {
   "cell_type": "markdown",
   "metadata": {},
   "source": [
    "## Note\n",
    "- size: 特徴量\n",
    "- length: 時系列"
   ]
  },
  {
   "cell_type": "code",
   "execution_count": 1,
   "metadata": {},
   "outputs": [
    {
     "name": "stderr",
     "output_type": "stream",
     "text": [
      "/home/shibutani/miniconda3/envs/py39/lib/python3.9/site-packages/tqdm/auto.py:22: TqdmWarning: IProgress not found. Please update jupyter and ipywidgets. See https://ipywidgets.readthedocs.io/en/stable/user_install.html\n",
      "  from .autonotebook import tqdm as notebook_tqdm\n"
     ]
    }
   ],
   "source": [
    "from torch.utils.data import Dataset\n",
    "\n",
    "import torch\n",
    "from torch import nn, optim\n",
    "import pandas as pd\n",
    "import torchaudio\n",
    "import librosa\n",
    "import numpy as np\n",
    "import math\n",
    "\n",
    "from torchmetrics.functional import char_error_rate\n",
    "\n",
    "import glob\n",
    "import os\n",
    "import re\n",
    "import copy\n"
   ]
  },
  {
   "cell_type": "code",
   "execution_count": 2,
   "metadata": {},
   "outputs": [],
   "source": [
    "tkwargs_int = {\n",
    "    \"dtype\": torch.int32,\n",
    "    \"device\": \"cuda\",\n",
    "}\n",
    "tkwargs_float = {\n",
    "    \"dtype\": torch.float32,\n",
    "    \"device\": \"cuda\",\n",
    "}"
   ]
  },
  {
   "cell_type": "code",
   "execution_count": 3,
   "metadata": {},
   "outputs": [],
   "source": [
    "class YesNoDataset(Dataset):\n",
    "    def __init__(self, wav_dir_path, model_sample_rate):\n",
    "        super().__init__()\n",
    "\n",
    "        dataset = []\n",
    "        columns = [\"path\", \"text_idx\"]\n",
    "        self.labels = [\"y\", \"e\", \"s\", \"n\", \"o\", \"<space>\", \"_\"]\n",
    "        self.label_to_idx = {label: i for i, label in enumerate(self.labels)}\n",
    "        for wav_file_path in glob.glob(wav_dir_path + \"*.wav\"):\n",
    "            file_name = os.path.splitext(os.path.basename(wav_file_path))[0]\n",
    "            text_idx = []\n",
    "            for c in file_name:\n",
    "                if c == \"1\":\n",
    "                    text_idx += [self.label_to_idx[ic] for ic in \"yes\"] \n",
    "                elif c == \"0\":\n",
    "                    text_idx += [self.label_to_idx[ic] for ic in \"no\"] \n",
    "                elif c == \"_\":\n",
    "                    text_idx.append(self.label_to_idx[\"<space>\"])\n",
    "                else:\n",
    "                    raise ValueError(\"Invalid Dir Path\")\n",
    "            dataset.append([wav_file_path, text_idx])\n",
    "        \n",
    "        self.dataset = pd.DataFrame(dataset, columns=columns)\n",
    "        self.model_sample_rate = model_sample_rate\n",
    "        self.spectrogram_transformer = torchaudio.transforms.MelSpectrogram(\n",
    "            # スペクトル設定\n",
    "            sample_rate=self.model_sample_rate,\n",
    "            n_fft=1024,\n",
    "            # スペクトログラム設定\n",
    "            win_length= None,\n",
    "            hop_length= 512,\n",
    "            window_fn= torch.hann_window,\n",
    "            # メルスペクトログラム設定\n",
    "            n_mels=80,\n",
    "            power=2.0,\n",
    "        )\n",
    "    \n",
    "    \n",
    "    def __len__(self):\n",
    "        return self.dataset.shape[0]\n",
    "    \n",
    "    def __getitem__(self, idx):\n",
    "        wav_file_path = self.dataset.iloc[idx, 0]\n",
    "        text_idx = self.dataset.iloc[idx, 1]\n",
    "        wav_data, sample_rate = torchaudio.load(wav_file_path)\n",
    "        if sample_rate != self.model_sample_rate:\n",
    "            wav_data = torchaudio.functional.resample(wav_data, sample_rate, self.model_sample_rate)\n",
    "            sample_rate = self.model_sample_rate\n",
    "        spectrogram = self.spectrogram_transformer(wav_data)\n",
    "        spectrogram_db = librosa.amplitude_to_db(spectrogram)\n",
    "\n",
    "        return spectrogram_db[0].transpose(1,0), torch.tensor(text_idx)\n",
    "\n",
    "        "
   ]
  },
  {
   "cell_type": "code",
   "execution_count": 4,
   "metadata": {},
   "outputs": [],
   "source": [
    "from torch.nn.utils.rnn import pad_sequence, pack_padded_sequence, pad_packed_sequence\n",
    "\n",
    "def collate_fn(batch):\n",
    "    # spectrogram_db: tensor[Time, Melbins]\n",
    "    # text_idx: tensor[text_len]\n",
    "    spectrogram_dbs, text_idxs = zip(*batch)\n",
    "   \n",
    "    original_spectrogram_db_lens = torch.tensor(np.array([len(spectrogram_db) for spectrogram_db in spectrogram_dbs]))\n",
    "    original_text_idx_lens = torch.tensor(np.array([len(text_idx) for text_idx in text_idxs]))\n",
    "\n",
    "    # padding for spectrogram_db\n",
    "    padded_spectrogram_dbs = []\n",
    "    for spectrogram_db in spectrogram_dbs:\n",
    "        padded_spectrogram_db = np.pad(spectrogram_db, ((0,max(original_spectrogram_db_lens)-spectrogram_db.shape[0]),(0,0)), \"constant\", constant_values=0)\n",
    "        padded_spectrogram_dbs.append(padded_spectrogram_db)\n",
    "    \n",
    "    padded_spectrogram_dbs = torch.tensor(np.array(padded_spectrogram_dbs))\n",
    "\n",
    "    # padding and packing for text_idx\n",
    "    padded_text_idxs = pad_sequence(text_idxs, batch_first=True, padding_value=-1)\n",
    "\n",
    "    return padded_spectrogram_dbs, padded_text_idxs, original_spectrogram_db_lens, original_text_idx_lens"
   ]
  },
  {
   "cell_type": "code",
   "execution_count": 5,
   "metadata": {},
   "outputs": [],
   "source": [
    "model_sample_rate = 8000\n",
    "wav_dir_path = \"../../datasets/waves_yesno/\"\n",
    "dataset = YesNoDataset(wav_dir_path, model_sample_rate)"
   ]
  },
  {
   "cell_type": "code",
   "execution_count": 6,
   "metadata": {},
   "outputs": [],
   "source": [
    "from torch.utils.data import random_split, DataLoader\n",
    "# 学習データとテストデータに分割\n",
    "## 合計サイズが元のサイズと同一になるように注意\n",
    "train_size = int(len(dataset) * 0.7)\n",
    "test_size = len(dataset) - train_size\n",
    "train_dataset, test_dataset = random_split(\n",
    "    dataset, [train_size, test_size]\n",
    ")\n",
    "BATCH_SIZE = 2\n",
    "train_dataloader = DataLoader(\n",
    "    train_dataset,\n",
    "    batch_size=BATCH_SIZE,\n",
    "    shuffle=True,\n",
    "    num_workers=4,\n",
    "    # 不完全なバッチの無視\n",
    "    drop_last=True,\n",
    "    # 高速化?\n",
    "    pin_memory=True,\n",
    "    collate_fn=collate_fn\n",
    ")\n",
    "test_dataloader = DataLoader(\n",
    "    test_dataset,\n",
    "    batch_size=BATCH_SIZE,\n",
    "    shuffle=True,\n",
    "    num_workers=4,\n",
    "    # 不完全なバッチの無視\n",
    "    drop_last=True,\n",
    "    # 高速化?\n",
    "    pin_memory=True,\n",
    "    collate_fn=collate_fn\n",
    ")"
   ]
  },
  {
   "cell_type": "code",
   "execution_count": 7,
   "metadata": {},
   "outputs": [],
   "source": [
    "import sys\n",
    "from modules.preprocessing.subsampling import Conv2DSubSampling\n",
    "from modules.transformers.encoder import TransformerEncoder"
   ]
  },
  {
   "cell_type": "code",
   "execution_count": 8,
   "metadata": {},
   "outputs": [
    {
     "name": "stdout",
     "output_type": "stream",
     "text": [
      "This learning will be running on cuda.\n"
     ]
    }
   ],
   "source": [
    "device = torch.device(\"cuda\" if torch.cuda.is_available() else \"cpu\")\n",
    "print(f\"This learning will be running on {device}.\")\n",
    "input_size = 80\n",
    "subsampled_input_size = 80\n",
    "num_labels = len(dataset.labels)\n",
    "num_epochs = 40"
   ]
  },
  {
   "cell_type": "markdown",
   "metadata": {},
   "source": [
    "これ以降、各モデルごとに実験用のコードを記述していきます。"
   ]
  },
  {
   "cell_type": "code",
   "execution_count": 9,
   "metadata": {},
   "outputs": [],
   "source": [
    "def ctc_simple_decode(hypotheses_idxs, labels, padding_idx):\n",
    "    # hypothesis_idxs: tensor(batch, time)\n",
    "    # labels: np.array(num_labels)\n",
    "\n",
    "    hypotheses_idxs = hypotheses_idxs.cpu().numpy()\n",
    "    hypotheses = []\n",
    "    blank_idx = labels.index(\"_\")\n",
    "    for hypothesis_idxs in hypotheses_idxs:\n",
    "        hypothesis = []\n",
    "        prev_idx = -1\n",
    "        for idx in hypothesis_idxs:\n",
    "            if idx == blank_idx:\n",
    "                continue\n",
    "            elif idx == prev_idx:\n",
    "                continue\n",
    "            elif idx == padding_idx:\n",
    "                continue\n",
    "            else:\n",
    "                hypothesis.append(labels[idx])\n",
    "                prev_idx = idx\n",
    "        hypotheses.append(\"\".join(hypothesis))\n",
    "    return hypotheses"
   ]
  },
  {
   "cell_type": "code",
   "execution_count": null,
   "metadata": {},
   "outputs": [],
   "source": [
    "import pickle\n",
    "with open(\"./padded_text_idxs.pkl\", \"wb\") as f:\n",
    "    pickle.dump(padded_text_idxs, f)\n",
    "with open(\"./original_text_idx_lens.pkl\", \"wb\") as f:\n",
    "    pickle.dump(original_text_idx_lens, f)"
   ]
  },
  {
   "cell_type": "code",
   "execution_count": 13,
   "metadata": {},
   "outputs": [
    {
     "name": "stdout",
     "output_type": "stream",
     "text": [
      "0 epoch: 112.33126237657335 loss, 94.17699940999348 test loss, CER: 1.0, 0.9137444496154785 sec\n",
      "1 epoch: 110.18859608968098 loss, 94.06585523817274 test loss, CER: 0.8983814716339111, 0.9033684730529785 sec\n",
      "2 epoch: 110.25487560696072 loss, 93.31545766194661 test loss, CER: 1.0, 0.9266366958618164 sec\n"
     ]
    },
    {
     "ename": "KeyboardInterrupt",
     "evalue": "",
     "output_type": "error",
     "traceback": [
      "\u001b[0;31m---------------------------------------------------------------------------\u001b[0m",
      "\u001b[0;31mKeyboardInterrupt\u001b[0m                         Traceback (most recent call last)",
      "Cell \u001b[0;32mIn [13], line 32\u001b[0m\n\u001b[1;32m     30\u001b[0m loss \u001b[39m=\u001b[39m ctc_loss(log_probs\u001b[39m.\u001b[39mtranspose(\u001b[39m1\u001b[39m, \u001b[39m0\u001b[39m), padded_text_idxs, y_lengths, original_text_idx_lens)\n\u001b[1;32m     31\u001b[0m loss\u001b[39m.\u001b[39mbackward()\n\u001b[0;32m---> 32\u001b[0m optimizer\u001b[39m.\u001b[39;49mstep()\n\u001b[1;32m     33\u001b[0m \u001b[39m# lossはバッチ内平均ロス\u001b[39;00m\n\u001b[1;32m     34\u001b[0m epoch_loss \u001b[39m+\u001b[39m\u001b[39m=\u001b[39m (loss\u001b[39m.\u001b[39mitem() \u001b[39m/\u001b[39m BATCH_SIZE)\n",
      "File \u001b[0;32m~/miniconda3/envs/py39/lib/python3.9/site-packages/torch/optim/optimizer.py:88\u001b[0m, in \u001b[0;36mOptimizer._hook_for_profile.<locals>.profile_hook_step.<locals>.wrapper\u001b[0;34m(*args, **kwargs)\u001b[0m\n\u001b[1;32m     86\u001b[0m profile_name \u001b[39m=\u001b[39m \u001b[39m\"\u001b[39m\u001b[39mOptimizer.step#\u001b[39m\u001b[39m{}\u001b[39;00m\u001b[39m.step\u001b[39m\u001b[39m\"\u001b[39m\u001b[39m.\u001b[39mformat(obj\u001b[39m.\u001b[39m\u001b[39m__class__\u001b[39m\u001b[39m.\u001b[39m\u001b[39m__name__\u001b[39m)\n\u001b[1;32m     87\u001b[0m \u001b[39mwith\u001b[39;00m torch\u001b[39m.\u001b[39mautograd\u001b[39m.\u001b[39mprofiler\u001b[39m.\u001b[39mrecord_function(profile_name):\n\u001b[0;32m---> 88\u001b[0m     \u001b[39mreturn\u001b[39;00m func(\u001b[39m*\u001b[39;49margs, \u001b[39m*\u001b[39;49m\u001b[39m*\u001b[39;49mkwargs)\n",
      "File \u001b[0;32m~/miniconda3/envs/py39/lib/python3.9/site-packages/torch/autograd/grad_mode.py:28\u001b[0m, in \u001b[0;36m_DecoratorContextManager.__call__.<locals>.decorate_context\u001b[0;34m(*args, **kwargs)\u001b[0m\n\u001b[1;32m     25\u001b[0m \u001b[39m@functools\u001b[39m\u001b[39m.\u001b[39mwraps(func)\n\u001b[1;32m     26\u001b[0m \u001b[39mdef\u001b[39;00m \u001b[39mdecorate_context\u001b[39m(\u001b[39m*\u001b[39margs, \u001b[39m*\u001b[39m\u001b[39m*\u001b[39mkwargs):\n\u001b[1;32m     27\u001b[0m     \u001b[39mwith\u001b[39;00m \u001b[39mself\u001b[39m\u001b[39m.\u001b[39m\u001b[39m__class__\u001b[39m():\n\u001b[0;32m---> 28\u001b[0m         \u001b[39mreturn\u001b[39;00m func(\u001b[39m*\u001b[39;49margs, \u001b[39m*\u001b[39;49m\u001b[39m*\u001b[39;49mkwargs)\n",
      "File \u001b[0;32m~/miniconda3/envs/py39/lib/python3.9/site-packages/torch/optim/adam.py:133\u001b[0m, in \u001b[0;36mAdam.step\u001b[0;34m(self, closure)\u001b[0m\n\u001b[1;32m    130\u001b[0m             \u001b[39m# record the step after step update\u001b[39;00m\n\u001b[1;32m    131\u001b[0m             state_steps\u001b[39m.\u001b[39mappend(state[\u001b[39m'\u001b[39m\u001b[39mstep\u001b[39m\u001b[39m'\u001b[39m])\n\u001b[0;32m--> 133\u001b[0m     F\u001b[39m.\u001b[39;49madam(params_with_grad,\n\u001b[1;32m    134\u001b[0m            grads,\n\u001b[1;32m    135\u001b[0m            exp_avgs,\n\u001b[1;32m    136\u001b[0m            exp_avg_sqs,\n\u001b[1;32m    137\u001b[0m            max_exp_avg_sqs,\n\u001b[1;32m    138\u001b[0m            state_steps,\n\u001b[1;32m    139\u001b[0m            amsgrad\u001b[39m=\u001b[39;49mgroup[\u001b[39m'\u001b[39;49m\u001b[39mamsgrad\u001b[39;49m\u001b[39m'\u001b[39;49m],\n\u001b[1;32m    140\u001b[0m            beta1\u001b[39m=\u001b[39;49mbeta1,\n\u001b[1;32m    141\u001b[0m            beta2\u001b[39m=\u001b[39;49mbeta2,\n\u001b[1;32m    142\u001b[0m            lr\u001b[39m=\u001b[39;49mgroup[\u001b[39m'\u001b[39;49m\u001b[39mlr\u001b[39;49m\u001b[39m'\u001b[39;49m],\n\u001b[1;32m    143\u001b[0m            weight_decay\u001b[39m=\u001b[39;49mgroup[\u001b[39m'\u001b[39;49m\u001b[39mweight_decay\u001b[39;49m\u001b[39m'\u001b[39;49m],\n\u001b[1;32m    144\u001b[0m            eps\u001b[39m=\u001b[39;49mgroup[\u001b[39m'\u001b[39;49m\u001b[39meps\u001b[39;49m\u001b[39m'\u001b[39;49m])\n\u001b[1;32m    145\u001b[0m \u001b[39mreturn\u001b[39;00m loss\n",
      "File \u001b[0;32m~/miniconda3/envs/py39/lib/python3.9/site-packages/torch/optim/_functional.py:83\u001b[0m, in \u001b[0;36madam\u001b[0;34m(params, grads, exp_avgs, exp_avg_sqs, max_exp_avg_sqs, state_steps, amsgrad, beta1, beta2, lr, weight_decay, eps)\u001b[0m\n\u001b[1;32m     80\u001b[0m bias_correction2 \u001b[39m=\u001b[39m \u001b[39m1\u001b[39m \u001b[39m-\u001b[39m beta2 \u001b[39m*\u001b[39m\u001b[39m*\u001b[39m step\n\u001b[1;32m     82\u001b[0m \u001b[39mif\u001b[39;00m weight_decay \u001b[39m!=\u001b[39m \u001b[39m0\u001b[39m:\n\u001b[0;32m---> 83\u001b[0m     grad \u001b[39m=\u001b[39m grad\u001b[39m.\u001b[39;49madd(param, alpha\u001b[39m=\u001b[39;49mweight_decay)\n\u001b[1;32m     85\u001b[0m \u001b[39m# Decay the first and second moment running average coefficient\u001b[39;00m\n\u001b[1;32m     86\u001b[0m exp_avg\u001b[39m.\u001b[39mmul_(beta1)\u001b[39m.\u001b[39madd_(grad, alpha\u001b[39m=\u001b[39m\u001b[39m1\u001b[39m \u001b[39m-\u001b[39m beta1)\n",
      "\u001b[0;31mKeyboardInterrupt\u001b[0m: "
     ]
    }
   ],
   "source": [
    "from torch.utils.tensorboard import SummaryWriter\n",
    "import time\n",
    "from model import Model\n",
    "\n",
    "model = Model(input_size, subsampled_input_size, num_labels).to(device)\n",
    "\n",
    "ctc_loss = nn.CTCLoss(reduction=\"sum\", blank=dataset.label_to_idx[\"_\"])\n",
    "optimizer = optim.Adam(model.parameters(), lr=0.001, weight_decay=0.0001)\n",
    "# Adam\n",
    "\n",
    "writer = SummaryWriter()\n",
    "\n",
    "for i in range(num_epochs):\n",
    "    t0 = time.time()\n",
    "    model.train()\n",
    "    epoch_loss = 0\n",
    "    cnt = 0\n",
    "    for _, (padded_spectrogram_dbs, padded_text_idxs, original_spectrofram_db_lens, original_text_idx_lens) in enumerate(train_dataloader):\n",
    "        cnt += 1\n",
    "        padded_spectrogram_dbs = padded_spectrogram_dbs.to(device)\n",
    "        original_spectrofram_db_lens = original_spectrofram_db_lens.to(device)\n",
    "        padded_text_idxs = padded_text_idxs.to(device)\n",
    "        original_text_idx_lens = original_text_idx_lens.to(device)\n",
    "        \n",
    "        optimizer.zero_grad()\n",
    "        log_probs, y_lengths  = model(x=padded_spectrogram_dbs, x_lengths=original_spectrofram_db_lens)\n",
    "        memo_log_probs = log_probs\n",
    "        memo_y_lengths = y_lengths\n",
    "        memo_original_t_lengths = original_text_idx_lens\n",
    "        loss = ctc_loss(log_probs.transpose(1, 0), padded_text_idxs, y_lengths, original_text_idx_lens)\n",
    "        loss.backward()\n",
    "        optimizer.step()\n",
    "        # lossはバッチ内平均ロス\n",
    "        epoch_loss += (loss.item() / BATCH_SIZE)\n",
    "    # バッチ内平均ロスの和をイテレーション数で割ることで、一つのデータあたりの平均ロスを求める\n",
    "    writer.add_scalar(\"Loss/Training\", epoch_loss / cnt, i)\n",
    "\n",
    "    model.eval()\n",
    "    with torch.no_grad():\n",
    "        epoch_test_loss = 0\n",
    "        cnt = 0\n",
    "        total_cer = 0\n",
    "        for _, (padded_spectrogram_dbs, padded_text_idxs, original_spectrofram_db_lens, original_text_idx_lens) in enumerate(test_dataloader):\n",
    "            cnt += 1\n",
    "            padded_spectrogram_dbs = padded_spectrogram_dbs.to(device)\n",
    "            original_spectrofram_db_lens = original_spectrofram_db_lens.to(device)\n",
    "            padded_text_idxs = padded_text_idxs.to(device)\n",
    "            original_text_idx_lens = original_text_idx_lens.to(device)\n",
    "            \n",
    "            log_probs, y_lengths  = model(x=padded_spectrogram_dbs, x_lengths=original_spectrofram_db_lens)\n",
    "            loss = ctc_loss(log_probs.transpose(1, 0), padded_text_idxs, y_lengths, original_text_idx_lens)\n",
    "            epoch_test_loss += loss.item()\n",
    "            # for CER calculation\n",
    "            hypotheses_idxs = log_probs.argmax(dim=2) \n",
    "            hypotheses = ctc_simple_decode(hypotheses_idxs, dataset.labels, -1)\n",
    "            teachers = ctc_simple_decode(padded_text_idxs, dataset.labels, -1)\n",
    "            total_cer += char_error_rate(hypotheses, teachers)\n",
    "\n",
    "    writer.add_scalar(\"Loss/Test\", epoch_test_loss / cnt, i)\n",
    "    writer.add_scalar(\"CER/Test\", total_cer / cnt, i)\n",
    "    t1 = time.time()\n",
    "    print(f\"{i} epoch: {epoch_loss / cnt} loss, {epoch_test_loss / cnt} test loss, CER: {total_cer / cnt}, {t1 - t0} sec\")"
   ]
  },
  {
   "cell_type": "code",
   "execution_count": null,
   "metadata": {},
   "outputs": [
    {
     "name": "stdout",
     "output_type": "stream",
     "text": [
      "hyp: <space>no<space>no<space>yes<space>no<space>yes<space>no<space>no<space>yes\n",
      "tea: no<space>no<space>yes<space>no<space>yes<space>no<space>no<space>yes\n",
      "hyp: no<space>no<space>yes<space>no<space>yes<space>no<space>no<space>noye\n",
      "tea: no<space>no<space>yes<space>no<space>yes<space>no<space>no<space>no\n",
      "hyp: no<space>yes<space>yes<space>yes<space>yes<space>yes<space>yes<space>yesye\n",
      "tea: no<space>yes<space>yes<space>yes<space>yes<space>yes<space>yes<space>yes\n",
      "hyp: no<space>no<space>es<space>yes<space>no<space>yes<space>yes<space>no\n",
      "tea: no<space>no<space>yes<space>yes<space>no<space>yes<space>yes<space>no\n",
      "hyp: no<space>yes<space>yes<space>no<space>no<space>yes<space>yes<space>no\n",
      "tea: no<space>yes<space>yes<space>no<space>no<space>yes<space>yes<space>no\n",
      "hyp: no<space>yes<space>yes<space>yes<space>no<space>no<space>no<space>noy\n",
      "tea: no<space>yes<space>yes<space>yes<space>no<space>no<space>no<space>no\n",
      "hyp: no<space>yes<space>yes<space>yes<space>yes<space>no<space>yes<space>no\n",
      "tea: no<space>yes<space>yes<space>yes<space>yes<space>no<space>yes<space>no\n",
      "hyp: no<space>yes<space>yes<space>no<space>no<space>yes<space>yes<space>yesy\n",
      "tea: no<space>yes<space>yes<space>no<space>no<space>yes<space>yes<space>yes\n",
      "hyp: no<space>es<space>no<space>no<space>no<space>yes<space>no<space>no\n",
      "tea: no<space>yes<space>no<space>no<space>no<space>yes<space>no<space>no\n",
      "hyp: no<space>yes<space>yes<space>yes<space>no<space>no<space>yes<space>noy\n",
      "tea: no<space>yes<space>yes<space>yes<space>no<space>no<space>yes<space>no\n",
      "hyp: yes<space>yes<space>yes<space>yes<space>yes<space>yes<space>yes<space>yes\n",
      "tea: yes<space>yes<space>yes<space>yes<space>yes<space>yes<space>yes<space>yes\n",
      "hyp: yes<space>yes<space>no<space>yes<space>es<space>no<space>yes<space>yesye\n",
      "tea: yes<space>yes<space>no<space>yes<space>yes<space>no<space>yes<space>yes\n",
      "hyp: yes<space>yes<space>no<space>yes<space>no<space>yes<space>no<space>noye\n",
      "tea: yes<space>yes<space>no<space>yes<space>no<space>yes<space>no<space>no\n",
      "hyp: yes<space>yes<space>no<space>no<space>no<space>yes<space>yes<space>yes\n",
      "tea: yes<space>yes<space>no<space>no<space>no<space>yes<space>yes<space>yes\n",
      "hyp: no<space>no<space>yes<space>no<space>no<space>yes<space>yes<space>noy\n",
      "tea: no<space>no<space>yes<space>no<space>no<space>yes<space>yes<space>no\n",
      "hyp: yes<space>yes<space>yes<space>no<space>no<space>yes<space>no<space>yes\n",
      "tea: yes<space>yes<space>yes<space>no<space>no<space>yes<space>no<space>yes\n",
      "hyp: no<space>yes<space>no<space>no<space>yes<space>no<space>yes<space>no\n",
      "tea: no<space>yes<space>no<space>no<space>yes<space>no<space>yes<space>no\n",
      "hyp: no<space>yes<space>no<space>no<space>no<space>yes<space>yes<space>no\n",
      "tea: no<space>yes<space>no<space>no<space>no<space>yes<space>yes<space>no\n",
      "CER: 0.01772882789373398\n"
     ]
    }
   ],
   "source": [
    "with torch.no_grad():\n",
    "    total_cer = 0\n",
    "    cnt = 0\n",
    "    for _, (padded_spectrogram_dbs,padded_text_idxs, original_spectrofram_db_lens, original_text_idx_lens) in enumerate(test_dataloader):\n",
    "        padded_spectrogram_dbs = padded_spectrogram_dbs.to(device)\n",
    "        original_spectrofram_db_lens = original_spectrofram_db_lens.to(device)\n",
    "        padded_text_idxs = padded_text_idxs.to(device)\n",
    "        original_text_idx_lens = original_text_idx_lens.to(device)\n",
    "        \n",
    "        log_probs, y_lengths  = model(x=padded_spectrogram_dbs, x_lengths=original_spectrofram_db_lens)\n",
    "\n",
    "        hypotheses_idxs = log_probs.argmax(dim=2)\n",
    "        hypotheses = ctc_simple_decode(hypotheses_idxs, dataset.labels, -1)\n",
    "        teachers = ctc_simple_decode(padded_text_idxs, dataset.labels, -1)\n",
    "        for hypothesis, teacher in zip(hypotheses, teachers):\n",
    "            print(f\"hyp: {hypothesis}\")\n",
    "            print(f\"tea: {teacher}\")\n",
    "        total_cer += char_error_rate(hypotheses, teachers)\n",
    "        cnt += 1\n",
    "    print(f\"CER: {total_cer / cnt}\")"
   ]
  },
  {
   "cell_type": "code",
   "execution_count": null,
   "metadata": {},
   "outputs": [],
   "source": []
  }
 ],
 "metadata": {
  "kernelspec": {
   "display_name": "Python 3.9.13 ('py39')",
   "language": "python",
   "name": "python3"
  },
  "language_info": {
   "codemirror_mode": {
    "name": "ipython",
    "version": 3
   },
   "file_extension": ".py",
   "mimetype": "text/x-python",
   "name": "python",
   "nbconvert_exporter": "python",
   "pygments_lexer": "ipython3",
   "version": "3.9.13 (main, Aug 25 2022, 23:26:10) \n[GCC 11.2.0]"
  },
  "orig_nbformat": 4,
  "vscode": {
   "interpreter": {
    "hash": "e822874ab5bf40d8e254332eebb695e7fa04bbc22c17addc03c9268ee429b8b4"
   }
  }
 },
 "nbformat": 4,
 "nbformat_minor": 2
}
