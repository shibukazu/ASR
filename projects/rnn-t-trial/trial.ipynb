{
 "cells": [
  {
   "cell_type": "code",
   "execution_count": 1,
   "metadata": {},
   "outputs": [],
   "source": [
    "import torch\n",
    "from torch.nn.functional import pad\n",
    "import torch.nn\n",
    "from data import YesNoDataset\n",
    "from model import CausalConformerModel\n",
    "from torchaudio.functional import rnnt_loss\n",
    "from torch.nn.functional import log_softmax\n",
    "from torchmetrics.functional import char_error_rate"
   ]
  },
  {
   "cell_type": "code",
   "execution_count": 2,
   "metadata": {},
   "outputs": [],
   "source": [
    "DEVICE = torch.device(\"cuda:4\" if torch.cuda.is_available() else \"cpu\")"
   ]
  },
  {
   "cell_type": "code",
   "execution_count": 3,
   "metadata": {},
   "outputs": [],
   "source": [
    "dataset = YesNoDataset(\n",
    "    wav_dir_path=\"datasets/waves_yesno/\",\n",
    "    model_sample_rate=16000,\n",
    ")\n",
    "dataloader = torch.utils.data.DataLoader(\n",
    "    dataset,\n",
    "    batch_size=8,\n",
    "    shuffle=False,\n",
    "    collate_fn=dataset.collate_fn,\n",
    "    drop_last=False,\n",
    ")"
   ]
  },
  {
   "cell_type": "code",
   "execution_count": 4,
   "metadata": {},
   "outputs": [],
   "source": [
    "idx_to_token = dataset.idx_to_token"
   ]
  },
  {
   "cell_type": "code",
   "execution_count": 22,
   "metadata": {},
   "outputs": [
    {
     "data": {
      "text/plain": [
       "<All keys matched successfully>"
      ]
     },
     "execution_count": 22,
     "metadata": {},
     "output_type": "execute_result"
    }
   ],
   "source": [
    "\n",
    "model = CausalConformerModel(\n",
    "    vocab_size=8,\n",
    "    encoder_input_size=40,\n",
    "    encoder_subsampled_input_size=64,\n",
    "    encoder_num_conformer_blocks=1,\n",
    "    encoder_ff_hidden_size=64,\n",
    "    encoder_conv_hidden_size=64,\n",
    "    encoder_conv_kernel_size=8,\n",
    "    encoder_mha_num_head=4,\n",
    "    encoder_dropout=0,\n",
    "    embedding_size=64,\n",
    "    predictor_hidden_size=64,\n",
    "    predictor_num_layers=1,\n",
    "    jointnet_hidden_size=64,\n",
    "    blank_idx=dataset.blank_idx,\n",
    ").to(DEVICE)\n",
    "checkpoint = torch.load(\"model_YesNo.pth\")\n",
    "model.load_state_dict(checkpoint[\"model_state_dict\"])\n"
   ]
  },
  {
   "cell_type": "code",
   "execution_count": 23,
   "metadata": {},
   "outputs": [],
   "source": [
    "benc_input, bpred_input, benc_input_length, bpred_input_length = next(iter(dataloader))\n",
    "benc_input = benc_input.to(DEVICE)\n",
    "bhyp_token_indices = model.greedy_inference(benc_input, benc_input_length)"
   ]
  },
  {
   "cell_type": "code",
   "execution_count": 24,
   "metadata": {},
   "outputs": [],
   "source": [
    "bans_token_indices = [\n",
    "                        bpred_input[i, : bpred_input_length[i]].tolist() for i in range(bpred_input.shape[0])\n",
    "                    ]\n",
    "bhyp_text = [\n",
    "    \"\".join([idx_to_token[idx] for idx in hyp_token_indices])\n",
    "    for hyp_token_indices in bhyp_token_indices\n",
    "]\n",
    "bans_text = [\n",
    "    \"\".join([idx_to_token[idx] for idx in ans_token_indices])\n",
    "    for ans_token_indices in bans_token_indices\n",
    "]"
   ]
  },
  {
   "cell_type": "code",
   "execution_count": 25,
   "metadata": {},
   "outputs": [
    {
     "name": "stdout",
     "output_type": "stream",
     "text": [
      "hyp: yes no no no no no yes yes\n",
      "ans: yes no no no no no yes yes\n",
      "\n",
      "hyp: yes yes no no yes yes no\n",
      "ans: yes yes no no yes no yes no\n",
      "\n",
      "hyp: yes no yes yes yes yes no yes\n",
      "ans: yes no yes yes yes yes no yes\n",
      "\n",
      "hyp: yes yes yes yes no yes no no\n",
      "ans: yes yes yes yes no yes no no\n",
      "\n",
      "hyp: no no yes yes yes no no no\n",
      "ans: no no yes yes yes no no no\n",
      "\n",
      "hyp: no yes yes yes yes yes yes yes\n",
      "ans: no yes yes yes yes yes yes yes\n",
      "\n",
      "hyp: no yes no yes yes yes no no\n",
      "ans: no yes no yes yes yes no no\n",
      "\n",
      "hyp: yes no yes yes yes no yes no\n",
      "ans: yes no yes yes yes no yes no\n",
      "\n"
     ]
    }
   ],
   "source": [
    "for i in range(len(bhyp_text)):\n",
    "    print(f\"hyp: {bhyp_text[i]}\")\n",
    "    print(f\"ans: {bans_text[i]}\")\n",
    "    print()"
   ]
  },
  {
   "cell_type": "code",
   "execution_count": 1,
   "metadata": {},
   "outputs": [],
   "source": [
    "import torch"
   ]
  },
  {
   "cell_type": "code",
   "execution_count": 3,
   "metadata": {},
   "outputs": [],
   "source": [
    "x = torch.ones(2,3,4)"
   ]
  },
  {
   "cell_type": "code",
   "execution_count": 4,
   "metadata": {},
   "outputs": [],
   "source": [
    "mask = torch.triu(torch.ones(x.size(1), x.size(1)), diagonal=1)\n",
    "mask = mask.masked_fill(mask == 1, float('-inf'))"
   ]
  },
  {
   "cell_type": "code",
   "execution_count": 7,
   "metadata": {},
   "outputs": [
    {
     "data": {
      "text/plain": [
       "tensor([[False,  True,  True],\n",
       "        [False, False,  True],\n",
       "        [False, False, False]])"
      ]
     },
     "execution_count": 7,
     "metadata": {},
     "output_type": "execute_result"
    }
   ],
   "source": [
    "torch.triu(torch.ones(x.size(1), x.size(1)), diagonal=1).bool()"
   ]
  },
  {
   "cell_type": "code",
   "execution_count": 8,
   "metadata": {},
   "outputs": [],
   "source": [
    "input_lengths = torch.tensor([2, 3, 4, 5, 6, 7, 8, 9])\n",
    "max_length=9"
   ]
  },
  {
   "cell_type": "code",
   "execution_count": 9,
   "metadata": {},
   "outputs": [
    {
     "data": {
      "text/plain": [
       "tensor([[False, False,  True,  True,  True,  True,  True,  True,  True],\n",
       "        [False, False, False,  True,  True,  True,  True,  True,  True],\n",
       "        [False, False, False, False,  True,  True,  True,  True,  True],\n",
       "        [False, False, False, False, False,  True,  True,  True,  True],\n",
       "        [False, False, False, False, False, False,  True,  True,  True],\n",
       "        [False, False, False, False, False, False, False,  True,  True],\n",
       "        [False, False, False, False, False, False, False, False,  True],\n",
       "        [False, False, False, False, False, False, False, False, False]])"
      ]
     },
     "execution_count": 9,
     "metadata": {},
     "output_type": "execute_result"
    }
   ],
   "source": [
    "torch.arange(max_length)[None, :] >= input_lengths[:, None]"
   ]
  },
  {
   "cell_type": "code",
   "execution_count": null,
   "metadata": {},
   "outputs": [],
   "source": []
  }
 ],
 "metadata": {
  "kernelspec": {
   "display_name": "asr_trial-VSmJ9s8a",
   "language": "python",
   "name": "python3"
  },
  "language_info": {
   "codemirror_mode": {
    "name": "ipython",
    "version": 3
   },
   "file_extension": ".py",
   "mimetype": "text/x-python",
   "name": "python",
   "nbconvert_exporter": "python",
   "pygments_lexer": "ipython3",
   "version": "3.7.13"
  },
  "orig_nbformat": 4,
  "vscode": {
   "interpreter": {
    "hash": "4dda18e6f9c257e1e507a9da78a27ac69b8a9bc5fb214ed912e4418646a6126e"
   }
  }
 },
 "nbformat": 4,
 "nbformat_minor": 2
}
