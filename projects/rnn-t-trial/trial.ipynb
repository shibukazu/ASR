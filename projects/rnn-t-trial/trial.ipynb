{
 "cells": [
  {
   "cell_type": "code",
   "execution_count": 1,
   "metadata": {},
   "outputs": [
    {
     "name": "stderr",
     "output_type": "stream",
     "text": [
      "/home/shibutani/miniconda3/envs/py39/lib/python3.9/site-packages/tqdm/auto.py:22: TqdmWarning: IProgress not found. Please update jupyter and ipywidgets. See https://ipywidgets.readthedocs.io/en/stable/user_install.html\n",
      "  from .autonotebook import tqdm as notebook_tqdm\n"
     ]
    }
   ],
   "source": [
    "import torch\n",
    "from torch.nn.functional import pad\n",
    "import torch.nn\n",
    "from data import YesNoDataset\n",
    "from model import CausalConformerModel\n",
    "from torchaudio.functional import rnnt_loss\n",
    "from torch.nn.functional import log_softmax\n",
    "from torchmetrics.functional import char_error_rate"
   ]
  },
  {
   "cell_type": "code",
   "execution_count": 2,
   "metadata": {},
   "outputs": [],
   "source": [
    "DEVICE = torch.device(\"cuda:4\" if torch.cuda.is_available() else \"cpu\")"
   ]
  },
  {
   "cell_type": "code",
   "execution_count": 3,
   "metadata": {},
   "outputs": [],
   "source": [
    "dataset = YesNoDataset(\n",
    "    wav_dir_path=\"datasets/waves_yesno/\",\n",
    "    model_sample_rate=16000,\n",
    ")\n",
    "dataloader = torch.utils.data.DataLoader(\n",
    "    dataset,\n",
    "    batch_size=8,\n",
    "    shuffle=False,\n",
    "    collate_fn=dataset.collate_fn,\n",
    "    drop_last=False,\n",
    ")"
   ]
  },
  {
   "cell_type": "code",
   "execution_count": 4,
   "metadata": {},
   "outputs": [],
   "source": [
    "idx_to_token = dataset.idx_to_token"
   ]
  },
  {
   "cell_type": "code",
   "execution_count": 5,
   "metadata": {},
   "outputs": [
    {
     "data": {
      "text/plain": [
       "<All keys matched successfully>"
      ]
     },
     "execution_count": 5,
     "metadata": {},
     "output_type": "execute_result"
    }
   ],
   "source": [
    "\n",
    "model = CausalConformerModel(\n",
    "    vocab_size=8,\n",
    "    encoder_input_size=40,\n",
    "    encoder_subsampled_input_size=32,\n",
    "    encoder_num_conformer_blocks=1,\n",
    "    encoder_ff_hidden_size=32,\n",
    "    encoder_conv_hidden_size=32,\n",
    "    encoder_conv_kernel_size=16,\n",
    "    encoder_mha_num_heads=4,\n",
    "    encoder_dropout=0,\n",
    "    encoder_subsampling_kernel_size1=3,\n",
    "    encoder_subsampling_stride1=2,\n",
    "    encoder_subsampling_kernel_size2=3,\n",
    "    encoder_subsampling_stride2=2,\n",
    "    encoder_num_previous_frames=\"all\",\n",
    "    embedding_size=64,\n",
    "    predictor_hidden_size=64,\n",
    "    predictor_num_layers=1,\n",
    "    jointnet_hidden_size=64,\n",
    "    blank_idx=dataset.blank_idx,\n",
    ").to(DEVICE)\n",
    "checkpoint = torch.load(\"model_YesNo.pth\")\n",
    "model.load_state_dict(checkpoint[\"model_state_dict\"])\n"
   ]
  },
  {
   "cell_type": "code",
   "execution_count": 6,
   "metadata": {},
   "outputs": [],
   "source": [
    "benc_input, bpred_input, benc_input_length, bpred_input_length = next(iter(dataloader))\n",
    "benc_input = benc_input.to(DEVICE)\n",
    "bhyp_token_indices = model.greedy_inference(benc_input, benc_input_length)"
   ]
  },
  {
   "cell_type": "code",
   "execution_count": 7,
   "metadata": {},
   "outputs": [],
   "source": [
    "enc_inputs = benc_input\n",
    "enc_input_lengths = benc_input_length"
   ]
  },
  {
   "cell_type": "code",
   "execution_count": 8,
   "metadata": {},
   "outputs": [],
   "source": [
    "batch_hyp_token_indices = []\n",
    "BUFFER_SIZE=4\n",
    "NUM_PREVIOUS_FRAMES=\"all\"\n",
    "for enc_input, enc_input_length in zip(enc_inputs, enc_input_lengths):\n",
    "    if enc_input.size(0) > enc_input_length:\n",
    "        enc_input = enc_input[:enc_input_length, :]\n",
    "    hyp_token_indices = []\n",
    "    buffer = []\n",
    "    pred_input = torch.tensor([[dataset.blank_idx]], dtype=torch.int32).to(DEVICE)\n",
    "    pred_output, hidden = model.predictor.forward_wo_prepend(pred_input, torch.tensor([1]), hidden=None)\n",
    "    for i in range(5, enc_input.shape[0]):\n",
    "        if NUM_PREVIOUS_FRAMES == \"all\":\n",
    "            buffer.append(enc_input[:i+1])\n",
    "        else:\n",
    "            buffer.append(enc_input[max(i+1-NUM_PREVIOUS_FRAMES, 0):i+1])\n",
    "        if len(buffer) == BUFFER_SIZE:\n",
    "            batch = torch.nn.utils.rnn.pad_sequence(buffer, batch_first=True, padding_value=0)\n",
    "            batch_lengths = torch.tensor([len(x) for x in buffer])\n",
    "            buffer = []\n",
    "            batch_enc_output, batch_subsampled_length = model.encoder(batch, batch_lengths)\n",
    "            for j in range(len(batch_enc_output)):\n",
    "                subsampled_length = batch_subsampled_length[j]\n",
    "                # NOTE: JointNetは線形層を通しているだけであり、時刻に関して独立->現在のenc_outだけで十分\n",
    "                enc_output = batch_enc_output[j][subsampled_length-1].view(1,1,-1)\n",
    "                num_token_indices = 0\n",
    "                while True:\n",
    "                    logits = model.jointnet(enc_output, pred_output)[0]\n",
    "                    pred_token_idx = torch.argmax(logits, dim=-1)\n",
    "                    if pred_token_idx == dataset.blank_idx:\n",
    "                        break\n",
    "                    else:\n",
    "                        num_token_indices += 1\n",
    "                        hyp_token_indices.append(pred_token_idx.item())\n",
    "                        pred_input = torch.tensor([[pred_token_idx]], dtype=torch.int32).to(DEVICE)\n",
    "                        pred_output, hidden = model.predictor.forward_wo_prepend(pred_input, torch.tensor([1]), hidden=hidden)\n",
    "                    \n",
    "                    if num_token_indices > 10:\n",
    "                        break\n",
    "    batch_hyp_token_indices.append(hyp_token_indices)\n"
   ]
  },
  {
   "cell_type": "code",
   "execution_count": 11,
   "metadata": {},
   "outputs": [],
   "source": [
    "bans_token_indices = [\n",
    "                        bpred_input[i, : bpred_input_length[i]].tolist() for i in range(bpred_input.shape[0])\n",
    "                    ]\n",
    "bhyp_text = [\n",
    "    \"\".join([idx_to_token[idx] for idx in hyp_token_indices])\n",
    "    for hyp_token_indices in batch_hyp_token_indices\n",
    "]\n",
    "bans_text = [\n",
    "    \"\".join([idx_to_token[idx] for idx in ans_token_indices])\n",
    "    for ans_token_indices in bans_token_indices\n",
    "]"
   ]
  },
  {
   "cell_type": "code",
   "execution_count": 12,
   "metadata": {},
   "outputs": [
    {
     "name": "stdout",
     "output_type": "stream",
     "text": [
      "hyp: no no no no no no yes yes\n",
      "ans: yes no no no no no yes yes\n",
      "\n",
      "hyp: yes yes no no yes no yes no\n",
      "ans: yes yes no no yes no yes no\n",
      "\n",
      "hyp: no no yes yes yes yes no yes\n",
      "ans: yes no yes yes yes yes no yes\n",
      "\n",
      "hyp: yes yes yes yes no yes no no\n",
      "ans: yes yes yes yes no yes no no\n",
      "\n",
      "hyp: no no yes yes yes no no no\n",
      "ans: no no yes yes yes no no no\n",
      "\n",
      "hyp: no yes yes yes yes yes yes yes\n",
      "ans: no yes yes yes yes yes yes yes\n",
      "\n",
      "hyp: no yes no yes yes yes no no\n",
      "ans: no yes no yes yes yes no no\n",
      "\n",
      "hyp: no no yes yes yes no yes no\n",
      "ans: yes no yes yes yes no yes no\n",
      "\n"
     ]
    }
   ],
   "source": [
    "for i in range(len(bhyp_text)):\n",
    "    print(f\"hyp: {bhyp_text[i]}\")\n",
    "    print(f\"ans: {bans_text[i]}\")\n",
    "    print()"
   ]
  },
  {
   "cell_type": "code",
   "execution_count": 13,
   "metadata": {},
   "outputs": [
    {
     "name": "stdout",
     "output_type": "stream",
     "text": [
      "tensor([[False,  True,  True,  True,  True,  True,  True,  True,  True,  True],\n",
      "        [False, False,  True,  True,  True,  True,  True,  True,  True,  True],\n",
      "        [False, False, False,  True,  True,  True,  True,  True,  True,  True],\n",
      "        [False, False, False, False,  True,  True,  True,  True,  True,  True],\n",
      "        [False, False, False, False, False,  True,  True,  True,  True,  True],\n",
      "        [False, False, False, False, False, False,  True,  True,  True,  True],\n",
      "        [False, False, False, False, False, False, False,  True,  True,  True],\n",
      "        [False, False, False, False, False, False, False, False,  True,  True],\n",
      "        [False, False, False, False, False, False, False, False, False,  True],\n",
      "        [False, False, False, False, False, False, False, False, False, False]])\n",
      "tensor([[False, False, False, False, False, False, False, False, False, False],\n",
      "        [False, False, False, False, False, False, False, False, False, False],\n",
      "        [False, False, False, False, False, False, False, False, False, False],\n",
      "        [False, False, False, False, False, False, False, False, False, False],\n",
      "        [False, False, False, False, False, False, False, False, False, False],\n",
      "        [False, False, False, False, False, False, False, False, False, False],\n",
      "        [False, False, False, False, False, False, False, False, False, False],\n",
      "        [False, False, False, False, False, False, False, False, False, False],\n",
      "        [False, False, False, False, False, False, False, False, False, False],\n",
      "        [False, False, False, False, False, False, False, False, False, False]])\n"
     ]
    }
   ],
   "source": [
    "x = torch.ones(3, 10, 5)\n",
    "input_length=x.shape[1]\n",
    "future_mask = torch.triu(torch.ones(input_length, input_length), diagonal=1).bool()\n",
    "print(future_mask)\n",
    "NUM_PREVIOUS_FRAMES = \"all\"\n",
    "# mask before NUM_PREVIOUS_FRAMES\n",
    "input_length=x.shape[1]\n",
    "if NUM_PREVIOUS_FRAMES == \"all\":\n",
    "    previous_mask = torch.zeros(input_length, input_length).bool()\n",
    "else:\n",
    "    previous_mask=torch.tril(torch.ones(input_length, input_length), diagonal=-(NUM_PREVIOUS_FRAMES+1)).bool()\n",
    "print(previous_mask)\n",
    "future_and_previous_mask = torch.logical_or(future_mask, previous_mask)"
   ]
  },
  {
   "cell_type": "code",
   "execution_count": 15,
   "metadata": {},
   "outputs": [
    {
     "data": {
      "text/plain": [
       "tensor([[False,  True,  True,  True,  True,  True,  True,  True,  True,  True],\n",
       "        [False, False,  True,  True,  True,  True,  True,  True,  True,  True],\n",
       "        [False, False, False,  True,  True,  True,  True,  True,  True,  True],\n",
       "        [False, False, False, False,  True,  True,  True,  True,  True,  True],\n",
       "        [False, False, False, False, False,  True,  True,  True,  True,  True],\n",
       "        [False, False, False, False, False, False,  True,  True,  True,  True],\n",
       "        [False, False, False, False, False, False, False,  True,  True,  True],\n",
       "        [False, False, False, False, False, False, False, False,  True,  True],\n",
       "        [False, False, False, False, False, False, False, False, False,  True],\n",
       "        [False, False, False, False, False, False, False, False, False, False]])"
      ]
     },
     "execution_count": 15,
     "metadata": {},
     "output_type": "execute_result"
    }
   ],
   "source": [
    "future_and_previous_mask"
   ]
  }
 ],
 "metadata": {
  "kernelspec": {
   "display_name": "py39",
   "language": "python",
   "name": "python3"
  },
  "language_info": {
   "codemirror_mode": {
    "name": "ipython",
    "version": 3
   },
   "file_extension": ".py",
   "mimetype": "text/x-python",
   "name": "python",
   "nbconvert_exporter": "python",
   "pygments_lexer": "ipython3",
   "version": "3.9.13"
  },
  "orig_nbformat": 4,
  "vscode": {
   "interpreter": {
    "hash": "e822874ab5bf40d8e254332eebb695e7fa04bbc22c17addc03c9268ee429b8b4"
   }
  }
 },
 "nbformat": 4,
 "nbformat_minor": 2
}
