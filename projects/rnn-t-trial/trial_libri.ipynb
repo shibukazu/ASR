{
 "cells": [
  {
   "cell_type": "code",
   "execution_count": 1,
   "metadata": {},
   "outputs": [
    {
     "name": "stderr",
     "output_type": "stream",
     "text": [
      "/home/shibutani/miniconda3/envs/py39/lib/python3.9/site-packages/tqdm/auto.py:22: TqdmWarning: IProgress not found. Please update jupyter and ipywidgets. See https://ipywidgets.readthedocs.io/en/stable/user_install.html\n",
      "  from .autonotebook import tqdm as notebook_tqdm\n"
     ]
    }
   ],
   "source": [
    "from data import LibriLightDataset"
   ]
  },
  {
   "cell_type": "code",
   "execution_count": 2,
   "metadata": {},
   "outputs": [],
   "source": [
    "dataset = LibriLightDataset(\n",
    "    subset=\"9h\",\n",
    "    vocab_file_path=\"vocabs/libri_light_9h.json\"\n",
    ")"
   ]
  },
  {
   "cell_type": "code",
   "execution_count": 12,
   "metadata": {},
   "outputs": [
    {
     "data": {
      "text/plain": [
       "(0,\n",
       " tensor([[-35.5138, -29.9267, -40.9547,  ..., -44.0250, -40.5251, -51.7048],\n",
       "         [-25.8475, -20.2603, -21.4205,  ..., -42.3526, -42.1820, -50.6365],\n",
       "         [-29.3507, -23.7636, -21.0031,  ..., -42.0334, -43.9650, -43.9873],\n",
       "         ...,\n",
       "         [-34.3036, -28.7165, -30.2791,  ..., -58.6917, -56.8066, -57.2123],\n",
       "         [-28.2778, -22.6907, -29.3687,  ..., -56.8147, -52.8755, -52.1725],\n",
       "         [-25.2908, -19.7036, -25.1087,  ..., -57.5143, -54.0901, -50.4231]]),\n",
       " tensor(1463, dtype=torch.int32),\n",
       " tensor([14,  7,  3, 23,  8,  3, 25, 20, 23,  7,  0,  6, 23, 27, 15, 26, 22, 23,\n",
       "         21, 18, 23, 24,  3, 17, 19, 14,  0, 22,  2, 23, 20, 15, 23, 16, 19,  4,\n",
       "         24, 24,  3, 12, 23, 26,  0, 20,  7, 23,  7,  0,  6, 23, 20,  7,  0, 14,\n",
       "         23, 26,  4, 14, 23, 26,  7,  4, 20, 23, 14,  7,  3, 23, 22, 15, 26, 23,\n",
       "         25, 24, 15, 25, 15, 14,  3, 27, 23, 20, 15, 23,  7,  0,  6, 23, 20, 15,\n",
       "         23,  3, 22, 10, 15, 18, 23,  4, 22, 27, 23,  7,  0, 14, 23, 14,  3,  1,\n",
       "         24,  3, 20, 23, 27,  0, 14,  1, 15,  6, 17, 15, 24, 20, 23, 26,  4, 14,\n",
       "         23,  7,  0, 14, 23, 14,  3, 22, 14,  3, 23, 20,  7,  4, 20, 23, 15, 22,\n",
       "         23, 20,  7,  3, 23, 26,  7, 15, 12,  3, 23,  0, 20, 23, 26,  4, 14, 23,\n",
       "         26,  7,  4, 20, 23, 26, 15, 19, 12, 27, 23, 21,  3, 14, 20, 23, 14, 19,\n",
       "          0, 20, 23,  7,  0,  6, 23, 21,  3,  0, 22,  2, 23,  8,  3, 25, 20, 23,\n",
       "         27, 15, 26, 22, 23, 26,  4, 14, 23,  4, 23, 21, 15, 24,  3, 23, 21, 19,\n",
       "         20], dtype=torch.int32),\n",
       " tensor(217, dtype=torch.int32),\n",
       " 'she kept him down by refusing to quarrel with him this was what she now proposed to him to enjoy and his secret discomfort was his sense that on the whole it was what would best suit him being kept down was a bore but',\n",
       " 2514,\n",
       " 149482,\n",
       " 10)"
      ]
     },
     "execution_count": 12,
     "metadata": {},
     "output_type": "execute_result"
    }
   ],
   "source": [
    "dataset[0]"
   ]
  },
  {
   "cell_type": "code",
   "execution_count": 8,
   "metadata": {},
   "outputs": [],
   "source": [
    "result = []\n",
    "for idx in dataset[0][3]:\n",
    "    result.append(dataset.idx_to_token[idx.item()])"
   ]
  },
  {
   "cell_type": "code",
   "execution_count": 11,
   "metadata": {},
   "outputs": [
    {
     "data": {
      "text/plain": [
       "217"
      ]
     },
     "execution_count": 11,
     "metadata": {},
     "output_type": "execute_result"
    }
   ],
   "source": [
    "\"\".join(result)"
   ]
  },
  {
   "cell_type": "code",
   "execution_count": null,
   "metadata": {},
   "outputs": [],
   "source": []
  }
 ],
 "metadata": {
  "kernelspec": {
   "display_name": "py39",
   "language": "python",
   "name": "python3"
  },
  "language_info": {
   "codemirror_mode": {
    "name": "ipython",
    "version": 3
   },
   "file_extension": ".py",
   "mimetype": "text/x-python",
   "name": "python",
   "nbconvert_exporter": "python",
   "pygments_lexer": "ipython3",
   "version": "3.9.13"
  },
  "orig_nbformat": 4,
  "vscode": {
   "interpreter": {
    "hash": "e822874ab5bf40d8e254332eebb695e7fa04bbc22c17addc03c9268ee429b8b4"
   }
  }
 },
 "nbformat": 4,
 "nbformat_minor": 2
}
