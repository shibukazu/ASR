{
 "cells": [
  {
   "cell_type": "code",
   "execution_count": 1,
   "metadata": {},
   "outputs": [
    {
     "name": "stderr",
     "output_type": "stream",
     "text": [
      "/home/shibutani/miniconda3/envs/py39/lib/python3.9/site-packages/tqdm/auto.py:22: TqdmWarning: IProgress not found. Please update jupyter and ipywidgets. See https://ipywidgets.readthedocs.io/en/stable/user_install.html\n",
      "  from .autonotebook import tqdm as notebook_tqdm\n"
     ]
    }
   ],
   "source": [
    "from data import LibriSpeechDataset\n",
    "from quantizer import Quantizer\n",
    "import torch\n",
    "import json"
   ]
  },
  {
   "cell_type": "code",
   "execution_count": 2,
   "metadata": {},
   "outputs": [],
   "source": [
    "dataset = LibriSpeechDataset(\n",
    "    root=\"datasets\",\n",
    "    split=\"train\",\n",
    ")"
   ]
  },
  {
   "cell_type": "code",
   "execution_count": 3,
   "metadata": {},
   "outputs": [],
   "source": [
    "DEVICE = \"cuda\" if torch.cuda.is_available() else \"cpu\"\n",
    "quantizer = Quantizer(DEVICE)"
   ]
  },
  {
   "cell_type": "code",
   "execution_count": 4,
   "metadata": {},
   "outputs": [],
   "source": [
    "with open(\"librispeech_normalized_phones.json\", \"r\") as f:\n",
    "    identifier_to_phones = json.load(f)"
   ]
  },
  {
   "cell_type": "code",
   "execution_count": 5,
   "metadata": {},
   "outputs": [],
   "source": [
    "identifier = f\"{dataset.dataset[2][3]}-{dataset.dataset[2][4]}-{dataset.dataset[2][5]:04d}\"\n",
    "text = dataset[2][-1]\n",
    "audio = dataset[2][-2]"
   ]
  },
  {
   "cell_type": "code",
   "execution_count": 6,
   "metadata": {},
   "outputs": [],
   "source": [
    "quantized_indices = quantizer.quantize(audio.unsqueeze(0).to(DEVICE))\n",
    "quantized_indices_list = quantized_indices.tolist()[0]"
   ]
  },
  {
   "cell_type": "code",
   "execution_count": 7,
   "metadata": {},
   "outputs": [],
   "source": [
    "import pickle\n",
    "with open(\"p_phoneme_quantized_idx.pkl\", \"rb\") as f:\n",
    "    p_phoneme_quantized_idx = pickle.load(f)"
   ]
  },
  {
   "cell_type": "code",
   "execution_count": 8,
   "metadata": {},
   "outputs": [],
   "source": [
    "phoneme_converter = {\n",
    "    \"aa\": \"a\",\n",
    "    \"ae\": \"a\",\n",
    "    \"ah\": \"a\",\n",
    "    \"aw\": \"a\",\n",
    "    \"ay\": \"a\",\n",
    "    \"b\": \"b\",\n",
    "    \"ch\": \"c\",\n",
    "    \"d\": \"d\",\n",
    "    \"dh\": \"d\",\n",
    "    \"dx\": \"t\",\n",
    "    \"eh\": \"e\",\n",
    "    \"axr\": \"er\",\n",
    "    \"ey\": \"e\",\n",
    "    \"f\": \"f\",\n",
    "    \"g\": \"g\",\n",
    "    \"hh\": \"h\",\n",
    "    \"ih\": \"e\",\n",
    "    \"iy\": \"e\",\n",
    "    \"jh\": \"j\",\n",
    "    \"k\": \"k\",\n",
    "    \"el\": \"l\",\n",
    "    \"em\": \"n\",\n",
    "    \"en\": \"n\",\n",
    "    \"eng\": \"n\",\n",
    "    \"ow\": \"o\",\n",
    "    \"oy\": \"o\",\n",
    "    \"p\": \"p\",\n",
    "    \"r\": \"r\",\n",
    "    \"s\": \"s\",\n",
    "    \"sh\": \"s\",\n",
    "    \"t\": \"t\",\n",
    "    \"th\": \"t\",\n",
    "    \"uh\": \"u\",\n",
    "    \"uw\": \"u\",\n",
    "    \"v\": \"v\",\n",
    "    \"w\": \"w\",\n",
    "    \"y\": \"y\",\n",
    "    \"z\": \"z\",\n",
    "    \"bcl\": \"bcl\",\n",
    "    \"[UNK]\": \"[UNK]\",\n",
    "}"
   ]
  },
  {
   "cell_type": "code",
   "execution_count": 9,
   "metadata": {},
   "outputs": [],
   "source": [
    "phonemes = []\n",
    "for quantized_idx in quantized_indices_list:\n",
    "    if quantized_idx in p_phoneme_quantized_idx:\n",
    "        probs = p_phoneme_quantized_idx[quantized_idx]\n",
    "        max_phoneme = max(probs, key=probs.get)\n",
    "        phonemes.append(max_phoneme)\n",
    "    else:\n",
    "        phonemes.append(\"[UNK]\")\n",
    "normalized_phonemes = phonemes\n",
    "# covert phoneme\n",
    "#normalized_phonemes = [phoneme_converter[phoneme] for phoneme in phonemes]\n",
    "# remove redundant phonemes\n",
    "normalized_phonemes = [normalized_phonemes[0]] + [normalized_phonemes[i] for i in range(1, len(normalized_phonemes)) if normalized_phonemes[i] != normalized_phonemes[i-1]]\n",
    "# remove bcl and insert \" \" instead\n",
    "normalized_phonemes = [phoneme if phoneme != \"bcl\" else \" \" for phoneme in normalized_phonemes]\n"
   ]
  },
  {
   "cell_type": "code",
   "execution_count": 12,
   "metadata": {},
   "outputs": [
    {
     "data": {
      "text/plain": [
       "'  f sh f w oy ih ae [UNK] en ow aa ay aa dx t iy y iy uw v [UNK] v ih en eh ih   b w aa axr r ow aa ah f   k   k ih   dx r [UNK] r ae ay aa en em   p hh ae s z   [UNK] em ih s uw ih z dh r ih iy ih   hh en t sh ah ow el v el iy en z s   aa uw ow r ow el   w el eh   dh eh ae ay   t iy y iy uw iy r axr   g ow aa ay r eh   sh f r axr   d y iy s th s ih en   th z s iy y iy ae eh en   ey ih   k p k el aa axr ae axr en   ih iy ey   p axr aa ah axr   el ih el ah en   dh uw w iy uw en el iy ih s z   k aa ay aa ae en em v en sh ih s th z ih ae   em ih iy z s uw ih z s t v r iy ih   sh s ow el ow em   w el s z s iy   iy en iy ih ae aa t k ih ah axr   w ih iy ih en   d iy ih eh oy ah el ah   p   s iy   ih iy [UNK] ae eh ih sh jh ow aa r eh aa   b aw aa ay ae eh ah aa ay en [UNK] ih   ae eh   f v r iy hh th   f k iy eng en eh ey ih   d   p t hh aw ae   hh s z   t   f r ah em ah   r aa axr ih [UNK]   s ih en   sh ow uw el ow ih   dx axr iy ih en ae aw aa ay ae   p  '"
      ]
     },
     "execution_count": 12,
     "metadata": {},
     "output_type": "execute_result"
    }
   ],
   "source": [
    "\" \".join(normalized_phonemes)"
   ]
  },
  {
   "cell_type": "code",
   "execution_count": 13,
   "metadata": {},
   "outputs": [
    {
     "data": {
      "text/plain": [
       "'bcl f aa r en aa t iy v ih en ah b r uh k bcl k uh d r ah en p ae s t em ih s ih z r ey ch ah el el ih en d z d aa r w ih th aw t d uw r ih g aa r d f axr d iy s ah en s iy ae en d d ih k aa r ah em bcl ih t p r aa b ah b el iy w ah z k aa en sh ah s dh ah t em ih s ih z r ey ch ah el w ah z s ih t ih eng ae t hh axr w ih en d ow bcl k iy p ih eng ah sh aa r p ay aa en eh v r iy th ih eng dh ah t p ae s t bcl f axr em b r uh k s ah en d ch ih el d r ah en ah p bcl'"
      ]
     },
     "execution_count": 13,
     "metadata": {},
     "output_type": "execute_result"
    }
   ],
   "source": [
    "\" \".join(identifier_to_phones[identifier])"
   ]
  },
  {
   "cell_type": "code",
   "execution_count": null,
   "metadata": {},
   "outputs": [],
   "source": []
  }
 ],
 "metadata": {
  "kernelspec": {
   "display_name": "py39",
   "language": "python",
   "name": "python3"
  },
  "language_info": {
   "codemirror_mode": {
    "name": "ipython",
    "version": 3
   },
   "file_extension": ".py",
   "mimetype": "text/x-python",
   "name": "python",
   "nbconvert_exporter": "python",
   "pygments_lexer": "ipython3",
   "version": "3.9.13"
  },
  "orig_nbformat": 4,
  "vscode": {
   "interpreter": {
    "hash": "e822874ab5bf40d8e254332eebb695e7fa04bbc22c17addc03c9268ee429b8b4"
   }
  }
 },
 "nbformat": 4,
 "nbformat_minor": 2
}
