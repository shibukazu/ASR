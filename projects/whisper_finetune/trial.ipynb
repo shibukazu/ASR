{
 "cells": [
  {
   "cell_type": "code",
   "execution_count": 1,
   "metadata": {},
   "outputs": [
    {
     "name": "stderr",
     "output_type": "stream",
     "text": [
      "/home/shibutani/miniconda3/envs/py39/lib/python3.9/site-packages/tqdm/auto.py:22: TqdmWarning: IProgress not found. Please update jupyter and ipywidgets. See https://ipywidgets.readthedocs.io/en/stable/user_install.html\n",
      "  from .autonotebook import tqdm as notebook_tqdm\n"
     ]
    }
   ],
   "source": [
    "import whisper\n",
    "from datasets import load_dataset\n",
    "from torchaudio.functional import resample\n",
    "import torch"
   ]
  },
  {
   "cell_type": "code",
   "execution_count": 2,
   "metadata": {},
   "outputs": [
    {
     "name": "stdout",
     "output_type": "stream",
     "text": [
      "cuda\n"
     ]
    }
   ],
   "source": [
    "DEVICE = torch.device(\"cuda\" if torch.cuda.is_available() else \"cpu\")\n",
    "print(DEVICE)"
   ]
  },
  {
   "cell_type": "code",
   "execution_count": 3,
   "metadata": {},
   "outputs": [],
   "source": [
    "import pickle\n",
    "with open(\"train_dataset.bin\", \"rb\") as f:\n",
    "    train_dataset = pickle.load(f)"
   ]
  },
  {
   "cell_type": "code",
   "execution_count": 4,
   "metadata": {},
   "outputs": [],
   "source": [
    "import torch\n",
    "BATCH_SIZE = 2\n",
    "train_dataloader = torch.utils.data.DataLoader(\n",
    "    train_dataset,\n",
    "    batch_size=BATCH_SIZE,\n",
    "    shuffle=True,\n",
    "    num_workers=8,\n",
    "    # 不完全なバッチの無視\n",
    "    drop_last=True,\n",
    "    collate_fn=train_dataset.collate_fn\n",
    ")"
   ]
  },
  {
   "cell_type": "code",
   "execution_count": 5,
   "metadata": {},
   "outputs": [],
   "source": [
    "model = whisper.load_model(\"base\").to(DEVICE)"
   ]
  },
  {
   "cell_type": "code",
   "execution_count": 6,
   "metadata": {},
   "outputs": [],
   "source": [
    "batch = next(iter(train_dataloader))\n",
    "bidx, bx, bx_len, by_input, by_input_len, by_target, by_target_len = batch\n",
    "with torch.no_grad():\n",
    "    bx = bx.to(DEVICE)\n",
    "    benc_out = model.encoder(bx)\n",
    "by_input = by_input.to(DEVICE)\n",
    "bdec_out = model.decoder(by_input, benc_out)\n"
   ]
  },
  {
   "cell_type": "code",
   "execution_count": null,
   "metadata": {},
   "outputs": [],
   "source": [
    "# bdec_out: [B, T, C]\n",
    "# by_target: [B, T]"
   ]
  },
  {
   "cell_type": "code",
   "execution_count": 7,
   "metadata": {},
   "outputs": [],
   "source": [
    "by_target = by_target.to(DEVICE)\n",
    "by_target_len = by_target_len.to(DEVICE)"
   ]
  },
  {
   "cell_type": "code",
   "execution_count": 8,
   "metadata": {},
   "outputs": [],
   "source": [
    "padded_target_len = by_target_len.max()\n",
    "# p(X) = 1の計算\n",
    "one_hot_target = torch.nn.functional.one_hot(by_target, num_classes=51865).float() # [B, T, C]\n",
    "# log q(x)の計算\n",
    "log_q_x = torch.nn.functional.log_softmax(bdec_out[:, -padded_target_len:, :], dim=-1) # [B, T, C]\n",
    "# log q(x) * p(x)の計算\n",
    "log_q_x_p_x = log_q_x * one_hot_target # [B, T, C]\n",
    "# padding部分のマスクケイン\n",
    "mask = torch.arange(padded_target_len).expand(len(by_target_len), padded_target_len).to(by_target_len.device) < by_target_len.unsqueeze(1) # [B, T]\n",
    "mask = mask.unsqueeze(-1) # [B, T, 1]\n",
    "# log q(x) * p(x)のpadding部分を0マスクすることでロス和の計算に寄与させない\n",
    "log_q_x_p_x = log_q_x_p_x.masked_fill(~mask, 0) # [B, T, C]\n",
    "# ロス和の計算\n",
    "loss = -log_q_x_p_x.sum()"
   ]
  },
  {
   "cell_type": "code",
   "execution_count": 9,
   "metadata": {},
   "outputs": [
    {
     "data": {
      "text/plain": [
       "tensor(219.6853, device='cuda:0', grad_fn=<NegBackward0>)"
      ]
     },
     "execution_count": 9,
     "metadata": {},
     "output_type": "execute_result"
    }
   ],
   "source": [
    "loss"
   ]
  },
  {
   "cell_type": "code",
   "execution_count": null,
   "metadata": {},
   "outputs": [],
   "source": [
    "# 非padding部分のみ抽出するマスクを作成\n",
    "padded_length = by_target_len.max()\n",
    "mask = torch.arange(padded_length, device=by_target.device)[None, :] < by_target_len[:, None]\n"
   ]
  },
  {
   "cell_type": "code",
   "execution_count": 81,
   "metadata": {},
   "outputs": [
    {
     "name": "stderr",
     "output_type": "stream",
     "text": [
      "/tmp/ipykernel_120543/1150883659.py:1: UserWarning: To copy construct from a tensor, it is recommended to use sourceTensor.clone().detach() or sourceTensor.clone().detach().requires_grad_(True), rather than torch.tensor(sourceTensor).\n",
      "  by_target_len = torch.tensor(by_target_len)\n"
     ]
    }
   ],
   "source": [
    "by_target_len = torch.tensor(by_target_len)\n",
    "padded_len = by_target_len.max()\n",
    "mask = torch.arange(padded_len, dtype=torch.int32).expand(len(by_target_len), padded_len).to(by_target_len.device) < by_target_len.unsqueeze(1)\n",
    "mask = mask.unsqueeze(-2)"
   ]
  },
  {
   "cell_type": "code",
   "execution_count": 37,
   "metadata": {},
   "outputs": [
    {
     "data": {
      "text/plain": [
       "tensor([True])"
      ]
     },
     "execution_count": 37,
     "metadata": {},
     "output_type": "execute_result"
    }
   ],
   "source": [
    "mask.permute(0, 2, 1)[0][0]"
   ]
  },
  {
   "cell_type": "code",
   "execution_count": 35,
   "metadata": {},
   "outputs": [
    {
     "data": {
      "text/plain": [
       "torch.Size([2, 1, 17])"
      ]
     },
     "execution_count": 35,
     "metadata": {},
     "output_type": "execute_result"
    }
   ],
   "source": [
    "mask.shape"
   ]
  },
  {
   "cell_type": "code",
   "execution_count": 36,
   "metadata": {},
   "outputs": [
    {
     "data": {
      "text/plain": [
       "tensor([[[ True,  True,  True,  True,  True,  True,  True,  True, False, False,\n",
       "          False, False, False, False, False, False, False]],\n",
       "\n",
       "        [[ True,  True,  True,  True,  True,  True,  True,  True,  True,  True,\n",
       "           True,  True,  True,  True,  True,  True,  True]]])"
      ]
     },
     "execution_count": 36,
     "metadata": {},
     "output_type": "execute_result"
    }
   ],
   "source": [
    "mask"
   ]
  },
  {
   "cell_type": "code",
   "execution_count": null,
   "metadata": {},
   "outputs": [],
   "source": []
  }
 ],
 "metadata": {
  "kernelspec": {
   "display_name": "Python 3.9.13 ('py39')",
   "language": "python",
   "name": "python3"
  },
  "language_info": {
   "codemirror_mode": {
    "name": "ipython",
    "version": 3
   },
   "file_extension": ".py",
   "mimetype": "text/x-python",
   "name": "python",
   "nbconvert_exporter": "python",
   "pygments_lexer": "ipython3",
   "version": "3.9.13"
  },
  "orig_nbformat": 4,
  "vscode": {
   "interpreter": {
    "hash": "e822874ab5bf40d8e254332eebb695e7fa04bbc22c17addc03c9268ee429b8b4"
   }
  }
 },
 "nbformat": 4,
 "nbformat_minor": 2
}
