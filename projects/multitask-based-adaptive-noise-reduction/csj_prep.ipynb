{
 "cells": [
  {
   "cell_type": "code",
   "execution_count": 1,
   "metadata": {},
   "outputs": [],
   "source": [
    "import torchaudio\n",
    "import json\n",
    "import os\n",
    "from preprocess import create_reverberated_data, create_noisy_data, create_noisy_data_parallel, create_reverberated_data_parallel\n",
    "from tqdm import tqdm\n",
    "import math\n",
    "import torch"
   ]
  },
  {
   "attachments": {},
   "cell_type": "markdown",
   "metadata": {},
   "source": [
    "## VAD付きデータの準備"
   ]
  },
  {
   "attachments": {},
   "cell_type": "markdown",
   "metadata": {},
   "source": [
    "### 完了"
   ]
  },
  {
   "cell_type": "code",
   "execution_count": 1,
   "metadata": {},
   "outputs": [
    {
     "name": "stderr",
     "output_type": "stream",
     "text": [
      "100%|██████████| 1220436/1220436 [01:16<00:00, 16021.67it/s]\n"
     ]
    }
   ],
   "source": [
    "# データ再整理 (json/aligned/train_nodup_sp.json)\n",
    "# 1. json内で話者もキーにする\n",
    "# 2. VAD情報を付与する\n",
    "\n",
    "import json\n",
    "from tqdm import tqdm\n",
    "\n",
    "align_file_path = \"/home/mimura/alignments/align.phones.per-frame.csj.sp\"\n",
    "with open(align_file_path, \"r\") as f:\n",
    "    aligns = f.readlines()\n",
    "align_dict = {}\n",
    "for align in tqdm(aligns):\n",
    "    align = align.strip().split(\" \")\n",
    "    key = align[0]\n",
    "    if not key.startswith(\"sp\"):\n",
    "        key = \"sp1.0-\" + key\n",
    "    align_dict[key] = align[1:]\n",
    "\n",
    "with open(f\"json/original/csj_train_nodup_sp.json\", \"r\") as f:\n",
    "    data_json = json.load(f)\n",
    "\n",
    "original_keys = list(data_json.keys())"
   ]
  },
  {
   "cell_type": "code",
   "execution_count": 2,
   "metadata": {},
   "outputs": [
    {
     "name": "stdout",
     "output_type": "stream",
     "text": [
      "finish: 100.00 %, ne: 0.50 %\r"
     ]
    }
   ],
   "source": [
    "result_json = {}\n",
    "\n",
    "counter = 0\n",
    "for i, key in enumerate(original_keys):\n",
    "    print(f\"finish: {i / len(original_keys) * 100:.2f} %, ne: {counter / len(original_keys) * 100:.2f} %\", end=\"\\r\")\n",
    "    speaker = key.split(\"-\")[1].split(\"_\")[0]\n",
    "    if speaker not in result_json:\n",
    "        result_json[speaker] = {}\n",
    "    # VAD情報を付与可能か調べる\n",
    "    if key in align_dict:\n",
    "        phonemes = align_dict[key]\n",
    "        data_json[key][\"vad\"] = [0 if phoneme.startswith(\"sp\") else 1 for phoneme in phonemes]\n",
    "        result_json[speaker][key] = data_json[key]\n",
    "    else:\n",
    "        counter += 1\n",
    "        #print(key)\n",
    "\n",
    "with open(f\"json/vad/train_nodup_sp.json\", \"w\") as f:\n",
    "    json.dump(result_json, f, indent=4, ensure_ascii=False)"
   ]
  },
  {
   "cell_type": "code",
   "execution_count": 3,
   "metadata": {},
   "outputs": [
    {
     "name": "stderr",
     "output_type": "stream",
     "text": [
      "100%|██████████| 2387/2387 [00:00<00:00, 1928684.96it/s]\n",
      "100%|██████████| 266/266 [00:00<00:00, 1417642.78it/s]\n"
     ]
    }
   ],
   "source": [
    "# 事前学習データおよびテストデータの準備 (json/aligned/pretrain.json, adaptation.json)\n",
    "import json\n",
    "from tqdm import tqdm\n",
    "with open(\"json/vad/train_nodup_sp.json\", \"r\") as f:\n",
    "    data_json = json.load(f)\n",
    "speakers = list(data_json.keys())\n",
    "# 事前学習データの作成\n",
    "pretrain_speakers = speakers[:int(len(speakers) * 0.9)]\n",
    "pretrain_json = {}\n",
    "for speaker in tqdm(pretrain_speakers):\n",
    "    pretrain_json[speaker] = data_json[speaker]\n",
    "with open(\"json/vad/pretrain.json\", \"w\") as f:\n",
    "    json.dump(pretrain_json, f, indent=4, ensure_ascii=False)\n",
    "# テストデータの作成\n",
    "adaptation_speakers = speakers[int(len(speakers) * 0.9):]\n",
    "adaptation_json = {}\n",
    "for speaker in tqdm(adaptation_speakers):\n",
    "    adaptation_json[speaker] = data_json[speaker]\n",
    "with open(\"json/vad/adaptation.json\", \"w\") as f:\n",
    "    json.dump(adaptation_json, f, indent=4, ensure_ascii=False)\n"
   ]
  },
  {
   "cell_type": "code",
   "execution_count": 2,
   "metadata": {},
   "outputs": [
    {
     "name": "stderr",
     "output_type": "stream",
     "text": [
      "  0%|          | 0/150 [00:00<?, ?it/s]"
     ]
    },
    {
     "ename": "KeyboardInterrupt",
     "evalue": "",
     "output_type": "error",
     "traceback": [
      "\u001b[0;31m---------------------------------------------------------------------------\u001b[0m",
      "\u001b[0;31mKeyboardInterrupt\u001b[0m                         Traceback (most recent call last)",
      "\u001b[1;32m/n/work3/shibutani/ASR/projects/adaptive-noise-reduction/csj_prep.ipynb Cell 12\u001b[0m in \u001b[0;36m4\n\u001b[1;32m     <a href='vscode-notebook-cell://ssh-remote%2Bsacs11/n/work3/shibutani/ASR/projects/adaptive-noise-reduction/csj_prep.ipynb#X16sdnNjb2RlLXJlbW90ZQ%3D%3D?line=37'>38</a>\u001b[0m result_json \u001b[39m=\u001b[39m {}\n\u001b[1;32m     <a href='vscode-notebook-cell://ssh-remote%2Bsacs11/n/work3/shibutani/ASR/projects/adaptive-noise-reduction/csj_prep.ipynb#X16sdnNjb2RlLXJlbW90ZQ%3D%3D?line=38'>39</a>\u001b[0m \u001b[39mfor\u001b[39;00m i \u001b[39min\u001b[39;00m \u001b[39mrange\u001b[39m(NUM_PROCS):\n\u001b[0;32m---> <a href='vscode-notebook-cell://ssh-remote%2Bsacs11/n/work3/shibutani/ASR/projects/adaptive-noise-reduction/csj_prep.ipynb#X16sdnNjb2RlLXJlbW90ZQ%3D%3D?line=39'>40</a>\u001b[0m     result_json\u001b[39m.\u001b[39mupdate(queue\u001b[39m.\u001b[39;49mget())\n\u001b[1;32m     <a href='vscode-notebook-cell://ssh-remote%2Bsacs11/n/work3/shibutani/ASR/projects/adaptive-noise-reduction/csj_prep.ipynb#X16sdnNjb2RlLXJlbW90ZQ%3D%3D?line=41'>42</a>\u001b[0m \u001b[39mfor\u001b[39;00m p \u001b[39min\u001b[39;00m jobs:\n\u001b[1;32m     <a href='vscode-notebook-cell://ssh-remote%2Bsacs11/n/work3/shibutani/ASR/projects/adaptive-noise-reduction/csj_prep.ipynb#X16sdnNjb2RlLXJlbW90ZQ%3D%3D?line=42'>43</a>\u001b[0m     p\u001b[39m.\u001b[39mjoin()\n",
      "File \u001b[0;32m~/miniconda3/envs/py39/lib/python3.9/multiprocessing/queues.py:103\u001b[0m, in \u001b[0;36mQueue.get\u001b[0;34m(self, block, timeout)\u001b[0m\n\u001b[1;32m    101\u001b[0m \u001b[39mif\u001b[39;00m block \u001b[39mand\u001b[39;00m timeout \u001b[39mis\u001b[39;00m \u001b[39mNone\u001b[39;00m:\n\u001b[1;32m    102\u001b[0m     \u001b[39mwith\u001b[39;00m \u001b[39mself\u001b[39m\u001b[39m.\u001b[39m_rlock:\n\u001b[0;32m--> 103\u001b[0m         res \u001b[39m=\u001b[39m \u001b[39mself\u001b[39;49m\u001b[39m.\u001b[39;49m_recv_bytes()\n\u001b[1;32m    104\u001b[0m     \u001b[39mself\u001b[39m\u001b[39m.\u001b[39m_sem\u001b[39m.\u001b[39mrelease()\n\u001b[1;32m    105\u001b[0m \u001b[39melse\u001b[39;00m:\n",
      "File \u001b[0;32m~/miniconda3/envs/py39/lib/python3.9/multiprocessing/connection.py:221\u001b[0m, in \u001b[0;36m_ConnectionBase.recv_bytes\u001b[0;34m(self, maxlength)\u001b[0m\n\u001b[1;32m    219\u001b[0m \u001b[39mif\u001b[39;00m maxlength \u001b[39mis\u001b[39;00m \u001b[39mnot\u001b[39;00m \u001b[39mNone\u001b[39;00m \u001b[39mand\u001b[39;00m maxlength \u001b[39m<\u001b[39m \u001b[39m0\u001b[39m:\n\u001b[1;32m    220\u001b[0m     \u001b[39mraise\u001b[39;00m \u001b[39mValueError\u001b[39;00m(\u001b[39m\"\u001b[39m\u001b[39mnegative maxlength\u001b[39m\u001b[39m\"\u001b[39m)\n\u001b[0;32m--> 221\u001b[0m buf \u001b[39m=\u001b[39m \u001b[39mself\u001b[39;49m\u001b[39m.\u001b[39;49m_recv_bytes(maxlength)\n\u001b[1;32m    222\u001b[0m \u001b[39mif\u001b[39;00m buf \u001b[39mis\u001b[39;00m \u001b[39mNone\u001b[39;00m:\n\u001b[1;32m    223\u001b[0m     \u001b[39mself\u001b[39m\u001b[39m.\u001b[39m_bad_message_length()\n",
      "File \u001b[0;32m~/miniconda3/envs/py39/lib/python3.9/multiprocessing/connection.py:419\u001b[0m, in \u001b[0;36mConnection._recv_bytes\u001b[0;34m(self, maxsize)\u001b[0m\n\u001b[1;32m    418\u001b[0m \u001b[39mdef\u001b[39;00m \u001b[39m_recv_bytes\u001b[39m(\u001b[39mself\u001b[39m, maxsize\u001b[39m=\u001b[39m\u001b[39mNone\u001b[39;00m):\n\u001b[0;32m--> 419\u001b[0m     buf \u001b[39m=\u001b[39m \u001b[39mself\u001b[39;49m\u001b[39m.\u001b[39;49m_recv(\u001b[39m4\u001b[39;49m)\n\u001b[1;32m    420\u001b[0m     size, \u001b[39m=\u001b[39m struct\u001b[39m.\u001b[39munpack(\u001b[39m\"\u001b[39m\u001b[39m!i\u001b[39m\u001b[39m\"\u001b[39m, buf\u001b[39m.\u001b[39mgetvalue())\n\u001b[1;32m    421\u001b[0m     \u001b[39mif\u001b[39;00m size \u001b[39m==\u001b[39m \u001b[39m-\u001b[39m\u001b[39m1\u001b[39m:\n",
      "File \u001b[0;32m~/miniconda3/envs/py39/lib/python3.9/multiprocessing/connection.py:384\u001b[0m, in \u001b[0;36mConnection._recv\u001b[0;34m(self, size, read)\u001b[0m\n\u001b[1;32m    382\u001b[0m remaining \u001b[39m=\u001b[39m size\n\u001b[1;32m    383\u001b[0m \u001b[39mwhile\u001b[39;00m remaining \u001b[39m>\u001b[39m \u001b[39m0\u001b[39m:\n\u001b[0;32m--> 384\u001b[0m     chunk \u001b[39m=\u001b[39m read(handle, remaining)\n\u001b[1;32m    385\u001b[0m     n \u001b[39m=\u001b[39m \u001b[39mlen\u001b[39m(chunk)\n\u001b[1;32m    386\u001b[0m     \u001b[39mif\u001b[39;00m n \u001b[39m==\u001b[39m \u001b[39m0\u001b[39m:\n",
      "\u001b[0;31mKeyboardInterrupt\u001b[0m: "
     ]
    }
   ],
   "source": [
    "# 事前学習データの準備 (json/aligned_csj/noisy_pretrain.json)\n",
    "# 事前学習データはノイズの多様性を持たせるために, 話者内で異なるノイズを用いることを許容する\n",
    "\n",
    "import multiprocessing\n",
    "from preprocess import create_aligned_noisy_pretrain_data_parallel\n",
    "import json\n",
    "\n",
    "with open(\"json/original/musan.json\", \"r\") as f:\n",
    "    musan_data_json = json.load(f)\n",
    "with open(\"json/original/demand.json\", \"r\") as f:\n",
    "    demand_data_json = json.load(f)\n",
    "\n",
    "noise_data_jsons = [musan_data_json, demand_data_json]\n",
    "\n",
    "with open(f\"json/vad/pretrain.json\", \"r\") as f:\n",
    "    data_json = json.load(f)\n",
    "\n",
    "all_speakers = list(data_json.keys())\n",
    "\n",
    "jobs = []\n",
    "queue = multiprocessing.Queue()\n",
    "NUM_PROCS = 16\n",
    "for i in range(NUM_PROCS):\n",
    "    start = int(len(all_speakers) / NUM_PROCS * i)\n",
    "    end = int(len(all_speakers) / NUM_PROCS * (i + 1))\n",
    "    if i == NUM_PROCS - 1:\n",
    "        end = len(all_speakers)\n",
    "    speakers = all_speakers[start:end]\n",
    "    p = multiprocessing.Process(\n",
    "        target=create_aligned_noisy_pretrain_data_parallel, args=(data_json, speakers, \"./datasets/vad/noisy/pretrain\", noise_data_jsons, queue)\n",
    "    )\n",
    "    p.start()\n",
    "    jobs.append(p)\n",
    "\n",
    "# concat result_jsons in queue\n",
    "result_json = {}\n",
    "for i in range(NUM_PROCS):\n",
    "    result_json.update(queue.get())\n",
    "\n",
    "for p in jobs:\n",
    "    p.join()\n",
    "\n",
    "assert len(result_json) == len(data_json)\n",
    "\n",
    "with open(f\"json/vad/noisy_pretrain.json\", \"w\") as f:\n",
    "    json.dump(result_json, f, indent=4, ensure_ascii=False)"
   ]
  },
  {
   "cell_type": "code",
   "execution_count": 1,
   "metadata": {},
   "outputs": [
    {
     "name": "stderr",
     "output_type": "stream",
     "text": [
      "100%|██████████| 1043010/1043010 [00:00<00:00, 1405080.42it/s]\n",
      "100%|██████████| 115890/115890 [00:00<00:00, 1280695.92it/s]\n"
     ]
    }
   ],
   "source": [
    "# 事前学習時のテストデータの準備 (json/aligned_csj/noisy_pretrain_eval.json)\n",
    "# テストデータでは可能な限り話者内で同じノイズを用いるようにする\n",
    "# ここで作成したデータはAdaptationでも利用する\n",
    "\n",
    "import multiprocessing\n",
    "from preprocess import create_aligned_noisy_pretrain_eval_data_parallel\n",
    "import json\n",
    "\n",
    "with open(\"json/original/chime3.json\", \"r\") as f:\n",
    "    chime3_data_json = json.load(f)\n",
    "\n",
    "noise_data_jsons = [chime3_data_json]\n",
    "\n",
    "with open(f\"json/vad/adaptation.json\", \"r\") as f: # ベースはAdaptationデータ\n",
    "    data_json = json.load(f)\n",
    "\n",
    "all_speakers = list(data_json.keys())\n",
    "\n",
    "jobs = []\n",
    "queue = multiprocessing.Queue()\n",
    "NUM_PROCS = 16\n",
    "for i in range(NUM_PROCS):\n",
    "    start = int(len(all_speakers) / NUM_PROCS * i)\n",
    "    end = int(len(all_speakers) / NUM_PROCS * (i + 1))\n",
    "    if i == NUM_PROCS - 1:\n",
    "        end = len(all_speakers)\n",
    "    speakers = all_speakers[start:end]\n",
    "    p = multiprocessing.Process(\n",
    "        target=create_aligned_noisy_pretrain_eval_data_parallel, args=(data_json, speakers, \"./datasets/vad/noisy/pretrain_eval\", noise_data_jsons, queue)\n",
    "    )\n",
    "    p.start()\n",
    "    jobs.append(p)\n",
    "\n",
    "# concat result_jsons in queue\n",
    "result_json = {}\n",
    "for i in range(NUM_PROCS):\n",
    "    result_json.update(queue.get())\n",
    "\n",
    "for p in jobs:\n",
    "    p.join()\n",
    "\n",
    "assert len(result_json) == len(data_json)\n",
    "\n",
    "with open(f\"json/vad/noisy_pretrain_eval.json\", \"w\") as f:\n",
    "    json.dump(result_json, f, indent=4, ensure_ascii=False)"
   ]
  },
  {
   "cell_type": "code",
   "execution_count": null,
   "metadata": {},
   "outputs": [],
   "source": [
    "# 事前学習時のテストデータの準備 （ref）(json/aligned_csj/noisy_pretrain_eval_ref.json)\n",
    "# テストデータでは可能な限り話者内で同じノイズを用いるようにする\n",
    "# ここで作成したデータはAdaptationでも利用する\n",
    "\n",
    "import multiprocessing\n",
    "from preprocess import create_aligned_noisy_pretrain_eval_data_parallel\n",
    "import json\n",
    "\n",
    "with open(\"json/original/demand.json\", \"r\") as f:\n",
    "    demand_data_json = json.load(f)\n",
    "with open(\"json/original/musan.json\", \"r\") as f:\n",
    "    musan_data_json = json.load(f)\n",
    "\n",
    "noise_data_jsons = [demand_data_json, musan_data_json]\n",
    "\n",
    "with open(f\"json/vad/adaptation.json\", \"r\") as f:\n",
    "    data_json = json.load(f)\n",
    "\n",
    "all_speakers = list(data_json.keys())\n",
    "\n",
    "jobs = []\n",
    "queue = multiprocessing.Queue()\n",
    "NUM_PROCS = 16\n",
    "for i in range(NUM_PROCS):\n",
    "    start = int(len(all_speakers) / NUM_PROCS * i)\n",
    "    end = int(len(all_speakers) / NUM_PROCS * (i + 1))\n",
    "    if i == NUM_PROCS - 1:\n",
    "        end = len(all_speakers)\n",
    "    speakers = all_speakers[start:end]\n",
    "    p = multiprocessing.Process(\n",
    "        target=create_aligned_noisy_pretrain_eval_data_parallel, args=(data_json, speakers, \"./datasets/vad/noisy/pretrain_eval_ref\", noise_data_jsons, queue)\n",
    "    )\n",
    "    p.start()\n",
    "    jobs.append(p)\n",
    "\n",
    "# concat result_jsons in queue\n",
    "result_json = {}\n",
    "for i in range(NUM_PROCS):\n",
    "    result_json.update(queue.get())\n",
    "\n",
    "for p in jobs:\n",
    "    p.join()\n",
    "\n",
    "assert len(result_json) == len(data_json)\n",
    "\n",
    "with open(f\"json/vad/noisy_pretrain_eval_ref.json\", \"w\") as f:\n",
    "    json.dump(result_json, f, indent=4, ensure_ascii=False)"
   ]
  },
  {
   "cell_type": "code",
   "execution_count": null,
   "metadata": {},
   "outputs": [],
   "source": [
    "# VADのサブサンプリング\n",
    "import json\n",
    "\n",
    "from tqdm import tqdm\n",
    "\n",
    "\n",
    "def vad_subsample(vad, kernel_size, stride):\n",
    "    n_subsample = (len(vad) - kernel_size + stride) // stride\n",
    "    subsampled_vad = []\n",
    "    for i in range(n_subsample):\n",
    "        sub = vad[i * stride : i * stride + kernel_size]\n",
    "        if len(sub) // 2 + 1 <= sum(sub):\n",
    "            subsampled_vad.append(1)\n",
    "        else:\n",
    "            subsampled_vad.append(0)\n",
    "    return subsampled_vad\n",
    "\n",
    "for type in [\"pretrain\", \"pretrain_eval\", \"pretrain_eval_ref\"]:\n",
    "\n",
    "    path = f\"./json/vad/noisy_{type}.json\"\n",
    "    result_path = f\"./json/vad/noisy_{type}_with_subsampled_vad.json\"\n",
    "\n",
    "    with open(path, \"r\") as f:\n",
    "        data_json = json.load(f)\n",
    "\n",
    "    result_json = data_json\n",
    "\n",
    "    speakers = list(data_json.keys())\n",
    "    for speaker in tqdm(speakers):\n",
    "        keys = list(data_json[speaker].keys())\n",
    "        for key in keys:\n",
    "            vad = data_json[speaker][key][\"vad\"]\n",
    "            subsampled_vad = vad_subsample(vad_subsample(vad, 3, 2), 3, 2)\n",
    "            result_json[speaker][key][\"subsampled_vad\"] = subsampled_vad\n",
    "\n",
    "    with open(result_path, \"w\") as f:\n",
    "        json.dump(result_json, f, indent=4, ensure_ascii=False)"
   ]
  },
  {
   "cell_type": "code",
   "execution_count": null,
   "metadata": {},
   "outputs": [],
   "source": [
    "# Adaptationデータの準備 (json/aligned_csj/noisy_adaptation_with_subsampled_vad.json)\n",
    "# 基本的には事前学習時のテストデータと同じ (noisy_pretrain_eval_with_subsampled_vad.json)\n",
    "# ただし、Speaker + ノイズの組み合わせが同一のデータをすべて連結し、比較的長い音声データを作成する\n",
    "\n",
    "import multiprocessing\n",
    "from preprocess import concat_pretrain_eval_with_subsampled_vad_parallel\n",
    "import json\n",
    "\n",
    "with open(f\"json/vad/noisy_pretrain_eval_with_subsampled_vad.json\", \"r\") as f:\n",
    "    data_json = json.load(f)\n",
    "\n",
    "all_speakers = list(data_json.keys())\n",
    "\n",
    "jobs = []\n",
    "queue = multiprocessing.Queue()\n",
    "NUM_PROCS = 16\n",
    "for i in range(NUM_PROCS):\n",
    "    start = int(len(all_speakers) / NUM_PROCS * i)\n",
    "    end = int(len(all_speakers) / NUM_PROCS * (i + 1))\n",
    "    if i == NUM_PROCS - 1:\n",
    "        end = len(all_speakers)\n",
    "    speakers = all_speakers[start:end]\n",
    "    p = multiprocessing.Process(\n",
    "        target=concat_pretrain_eval_with_subsampled_vad_parallel, args=(data_json, speakers, \"./datasets/vad/noisy/adaptation\", queue)\n",
    "    )\n",
    "    p.start()\n",
    "    jobs.append(p)\n",
    "\n",
    "# concat result_jsons in queue\n",
    "result_json = {}\n",
    "for i in range(NUM_PROCS):\n",
    "    result_json.update(queue.get())\n",
    "\n",
    "for p in jobs:\n",
    "    p.join()\n",
    "\n",
    "with open(f\"json/vad/noisy_adaptation_with_subsampled_vad.json\", \"w\") as f:\n",
    "    json.dump(result_json, f, indent=4, ensure_ascii=False)"
   ]
  },
  {
   "cell_type": "code",
   "execution_count": null,
   "metadata": {},
   "outputs": [],
   "source": [
    "# １path - Adaptationデータの準備 (json/vad/noisy_1_path_adaptation_with_subsampled_vad.json)\n",
    "# evalデータにおける同一Speaker,ノイズの発話セットを配列にまとめる\n",
    "\n",
    "import multiprocessing\n",
    "from preprocess import array_concat_pretrain_eval_with_subsampled_vad_parallel\n",
    "import json\n",
    "\n",
    "with open(f\"json/vad/noisy_pretrain_eval_with_subsampled_vad.json\", \"r\") as f:\n",
    "    data_json = json.load(f)\n",
    "\n",
    "all_speakers = list(data_json.keys())\n",
    "\n",
    "jobs = []\n",
    "queue = multiprocessing.Queue()\n",
    "NUM_PROCS = 16\n",
    "for i in range(NUM_PROCS):\n",
    "    start = int(len(all_speakers) / NUM_PROCS * i)\n",
    "    end = int(len(all_speakers) / NUM_PROCS * (i + 1))\n",
    "    if i == NUM_PROCS - 1:\n",
    "        end = len(all_speakers)\n",
    "    speakers = all_speakers[start:end]\n",
    "    p = multiprocessing.Process(\n",
    "        target=array_concat_pretrain_eval_with_subsampled_vad_parallel, args=(data_json, speakers, queue)\n",
    "    )\n",
    "    p.start()\n",
    "    jobs.append(p)\n",
    "\n",
    "# concat result_jsons in queue\n",
    "result_json = {}\n",
    "for i in range(NUM_PROCS):\n",
    "    result_json.update(queue.get())\n",
    "\n",
    "for p in jobs:\n",
    "    p.join()\n",
    "\n",
    "with open(f\"json/vad/noisy_1_path_adaptation_with_subsampled_vad.json\", \"w\") as f:\n",
    "    json.dump(result_json, f, indent=4, ensure_ascii=False)"
   ]
  },
  {
   "cell_type": "code",
   "execution_count": 1,
   "metadata": {},
   "outputs": [],
   "source": [
    "# developデータの作成\n",
    "import json\n",
    "\n",
    "with open(f\"json/vad/noisy_pretrain_with_subsampled_vad.json\", \"r\") as f:\n",
    "    data_json = json.load(f)\n",
    "\n",
    "speakers = list(data_json.keys())\n",
    "develop_speakers = speakers[:int(len(speakers) * 0.005)]\n",
    "develop_data_json = {speaker: data_json[speaker] for speaker in develop_speakers}\n",
    "with open(f\"json/vad/noisy_pretrain_develop_with_subsampled_vad.json\", \"w\") as f:\n",
    "    json.dump(develop_data_json, f, indent=4, ensure_ascii=False)"
   ]
  },
  {
   "attachments": {},
   "cell_type": "markdown",
   "metadata": {},
   "source": [
    "##  データ整備"
   ]
  },
  {
   "cell_type": "code",
   "execution_count": 11,
   "metadata": {},
   "outputs": [],
   "source": []
  },
  {
   "cell_type": "code",
   "execution_count": 9,
   "metadata": {},
   "outputs": [
    {
     "ename": "KeyboardInterrupt",
     "evalue": "",
     "output_type": "error",
     "traceback": [
      "\u001b[0;31m---------------------------------------------------------------------------\u001b[0m",
      "\u001b[0;31mKeyboardInterrupt\u001b[0m                         Traceback (most recent call last)",
      "\u001b[1;32m/n/work3/shibutani/ASR/projects/multitask-based-adaptive-noise-reduction/csj_prep.ipynb Cell 15\u001b[0m in \u001b[0;36m1\n\u001b[0;32m----> <a href='vscode-notebook-cell://ssh-remote%2Bsacs11/n/work3/shibutani/ASR/projects/multitask-based-adaptive-noise-reduction/csj_prep.ipynb#X20sdnNjb2RlLXJlbW90ZQ%3D%3D?line=0'>1</a>\u001b[0m develop_data_jsons\n",
      "File \u001b[0;32m~/miniconda3/envs/py39/lib/python3.9/site-packages/IPython/core/displayhook.py:262\u001b[0m, in \u001b[0;36mDisplayHook.__call__\u001b[0;34m(self, result)\u001b[0m\n\u001b[1;32m    260\u001b[0m \u001b[39mself\u001b[39m\u001b[39m.\u001b[39mstart_displayhook()\n\u001b[1;32m    261\u001b[0m \u001b[39mself\u001b[39m\u001b[39m.\u001b[39mwrite_output_prompt()\n\u001b[0;32m--> 262\u001b[0m format_dict, md_dict \u001b[39m=\u001b[39m \u001b[39mself\u001b[39;49m\u001b[39m.\u001b[39;49mcompute_format_data(result)\n\u001b[1;32m    263\u001b[0m \u001b[39mself\u001b[39m\u001b[39m.\u001b[39mupdate_user_ns(result)\n\u001b[1;32m    264\u001b[0m \u001b[39mself\u001b[39m\u001b[39m.\u001b[39mfill_exec_result(result)\n",
      "File \u001b[0;32m~/miniconda3/envs/py39/lib/python3.9/site-packages/IPython/core/displayhook.py:151\u001b[0m, in \u001b[0;36mDisplayHook.compute_format_data\u001b[0;34m(self, result)\u001b[0m\n\u001b[1;32m    121\u001b[0m \u001b[39mdef\u001b[39;00m \u001b[39mcompute_format_data\u001b[39m(\u001b[39mself\u001b[39m, result):\n\u001b[1;32m    122\u001b[0m     \u001b[39m\"\"\"Compute format data of the object to be displayed.\u001b[39;00m\n\u001b[1;32m    123\u001b[0m \n\u001b[1;32m    124\u001b[0m \u001b[39m    The format data is a generalization of the :func:`repr` of an object.\u001b[39;00m\n\u001b[0;32m   (...)\u001b[0m\n\u001b[1;32m    149\u001b[0m \n\u001b[1;32m    150\u001b[0m \u001b[39m    \"\"\"\u001b[39;00m\n\u001b[0;32m--> 151\u001b[0m     \u001b[39mreturn\u001b[39;00m \u001b[39mself\u001b[39;49m\u001b[39m.\u001b[39;49mshell\u001b[39m.\u001b[39;49mdisplay_formatter\u001b[39m.\u001b[39;49mformat(result)\n",
      "File \u001b[0;32m~/miniconda3/envs/py39/lib/python3.9/site-packages/IPython/core/formatters.py:177\u001b[0m, in \u001b[0;36mDisplayFormatter.format\u001b[0;34m(self, obj, include, exclude)\u001b[0m\n\u001b[1;32m    175\u001b[0m md \u001b[39m=\u001b[39m \u001b[39mNone\u001b[39;00m\n\u001b[1;32m    176\u001b[0m \u001b[39mtry\u001b[39;00m:\n\u001b[0;32m--> 177\u001b[0m     data \u001b[39m=\u001b[39m formatter(obj)\n\u001b[1;32m    178\u001b[0m \u001b[39mexcept\u001b[39;00m:\n\u001b[1;32m    179\u001b[0m     \u001b[39m# FIXME: log the exception\u001b[39;00m\n\u001b[1;32m    180\u001b[0m     \u001b[39mraise\u001b[39;00m\n",
      "File \u001b[0;32m~/miniconda3/envs/py39/lib/python3.9/site-packages/decorator.py:232\u001b[0m, in \u001b[0;36mdecorate.<locals>.fun\u001b[0;34m(*args, **kw)\u001b[0m\n\u001b[1;32m    230\u001b[0m \u001b[39mif\u001b[39;00m \u001b[39mnot\u001b[39;00m kwsyntax:\n\u001b[1;32m    231\u001b[0m     args, kw \u001b[39m=\u001b[39m fix(args, kw, sig)\n\u001b[0;32m--> 232\u001b[0m \u001b[39mreturn\u001b[39;00m caller(func, \u001b[39m*\u001b[39;49m(extras \u001b[39m+\u001b[39;49m args), \u001b[39m*\u001b[39;49m\u001b[39m*\u001b[39;49mkw)\n",
      "File \u001b[0;32m~/miniconda3/envs/py39/lib/python3.9/site-packages/IPython/core/formatters.py:221\u001b[0m, in \u001b[0;36mcatch_format_error\u001b[0;34m(method, self, *args, **kwargs)\u001b[0m\n\u001b[1;32m    219\u001b[0m \u001b[39m\"\"\"show traceback on failed format call\"\"\"\u001b[39;00m\n\u001b[1;32m    220\u001b[0m \u001b[39mtry\u001b[39;00m:\n\u001b[0;32m--> 221\u001b[0m     r \u001b[39m=\u001b[39m method(\u001b[39mself\u001b[39;49m, \u001b[39m*\u001b[39;49margs, \u001b[39m*\u001b[39;49m\u001b[39m*\u001b[39;49mkwargs)\n\u001b[1;32m    222\u001b[0m \u001b[39mexcept\u001b[39;00m \u001b[39mNotImplementedError\u001b[39;00m:\n\u001b[1;32m    223\u001b[0m     \u001b[39m# don't warn on NotImplementedErrors\u001b[39;00m\n\u001b[1;32m    224\u001b[0m     \u001b[39mreturn\u001b[39;00m \u001b[39mself\u001b[39m\u001b[39m.\u001b[39m_check_return(\u001b[39mNone\u001b[39;00m, args[\u001b[39m0\u001b[39m])\n",
      "File \u001b[0;32m~/miniconda3/envs/py39/lib/python3.9/site-packages/IPython/core/formatters.py:706\u001b[0m, in \u001b[0;36mPlainTextFormatter.__call__\u001b[0;34m(self, obj)\u001b[0m\n\u001b[1;32m    699\u001b[0m stream \u001b[39m=\u001b[39m StringIO()\n\u001b[1;32m    700\u001b[0m printer \u001b[39m=\u001b[39m pretty\u001b[39m.\u001b[39mRepresentationPrinter(stream, \u001b[39mself\u001b[39m\u001b[39m.\u001b[39mverbose,\n\u001b[1;32m    701\u001b[0m     \u001b[39mself\u001b[39m\u001b[39m.\u001b[39mmax_width, \u001b[39mself\u001b[39m\u001b[39m.\u001b[39mnewline,\n\u001b[1;32m    702\u001b[0m     max_seq_length\u001b[39m=\u001b[39m\u001b[39mself\u001b[39m\u001b[39m.\u001b[39mmax_seq_length,\n\u001b[1;32m    703\u001b[0m     singleton_pprinters\u001b[39m=\u001b[39m\u001b[39mself\u001b[39m\u001b[39m.\u001b[39msingleton_printers,\n\u001b[1;32m    704\u001b[0m     type_pprinters\u001b[39m=\u001b[39m\u001b[39mself\u001b[39m\u001b[39m.\u001b[39mtype_printers,\n\u001b[1;32m    705\u001b[0m     deferred_pprinters\u001b[39m=\u001b[39m\u001b[39mself\u001b[39m\u001b[39m.\u001b[39mdeferred_printers)\n\u001b[0;32m--> 706\u001b[0m printer\u001b[39m.\u001b[39;49mpretty(obj)\n\u001b[1;32m    707\u001b[0m printer\u001b[39m.\u001b[39mflush()\n\u001b[1;32m    708\u001b[0m \u001b[39mreturn\u001b[39;00m stream\u001b[39m.\u001b[39mgetvalue()\n",
      "File \u001b[0;32m~/miniconda3/envs/py39/lib/python3.9/site-packages/IPython/lib/pretty.py:393\u001b[0m, in \u001b[0;36mRepresentationPrinter.pretty\u001b[0;34m(self, obj)\u001b[0m\n\u001b[1;32m    390\u001b[0m \u001b[39mfor\u001b[39;00m \u001b[39mcls\u001b[39m \u001b[39min\u001b[39;00m _get_mro(obj_class):\n\u001b[1;32m    391\u001b[0m     \u001b[39mif\u001b[39;00m \u001b[39mcls\u001b[39m \u001b[39min\u001b[39;00m \u001b[39mself\u001b[39m\u001b[39m.\u001b[39mtype_pprinters:\n\u001b[1;32m    392\u001b[0m         \u001b[39m# printer registered in self.type_pprinters\u001b[39;00m\n\u001b[0;32m--> 393\u001b[0m         \u001b[39mreturn\u001b[39;00m \u001b[39mself\u001b[39;49m\u001b[39m.\u001b[39;49mtype_pprinters[\u001b[39mcls\u001b[39;49m](obj, \u001b[39mself\u001b[39;49m, cycle)\n\u001b[1;32m    394\u001b[0m     \u001b[39melse\u001b[39;00m:\n\u001b[1;32m    395\u001b[0m         \u001b[39m# deferred printer\u001b[39;00m\n\u001b[1;32m    396\u001b[0m         printer \u001b[39m=\u001b[39m \u001b[39mself\u001b[39m\u001b[39m.\u001b[39m_in_deferred_types(\u001b[39mcls\u001b[39m)\n",
      "File \u001b[0;32m~/miniconda3/envs/py39/lib/python3.9/site-packages/IPython/lib/pretty.py:692\u001b[0m, in \u001b[0;36m_dict_pprinter_factory.<locals>.inner\u001b[0;34m(obj, p, cycle)\u001b[0m\n\u001b[1;32m    690\u001b[0m     p\u001b[39m.\u001b[39mpretty(key)\n\u001b[1;32m    691\u001b[0m     p\u001b[39m.\u001b[39mtext(\u001b[39m'\u001b[39m\u001b[39m: \u001b[39m\u001b[39m'\u001b[39m)\n\u001b[0;32m--> 692\u001b[0m     p\u001b[39m.\u001b[39;49mpretty(obj[key])\n\u001b[1;32m    693\u001b[0m p\u001b[39m.\u001b[39mend_group(step, end)\n",
      "File \u001b[0;32m~/miniconda3/envs/py39/lib/python3.9/site-packages/IPython/lib/pretty.py:393\u001b[0m, in \u001b[0;36mRepresentationPrinter.pretty\u001b[0;34m(self, obj)\u001b[0m\n\u001b[1;32m    390\u001b[0m \u001b[39mfor\u001b[39;00m \u001b[39mcls\u001b[39m \u001b[39min\u001b[39;00m _get_mro(obj_class):\n\u001b[1;32m    391\u001b[0m     \u001b[39mif\u001b[39;00m \u001b[39mcls\u001b[39m \u001b[39min\u001b[39;00m \u001b[39mself\u001b[39m\u001b[39m.\u001b[39mtype_pprinters:\n\u001b[1;32m    392\u001b[0m         \u001b[39m# printer registered in self.type_pprinters\u001b[39;00m\n\u001b[0;32m--> 393\u001b[0m         \u001b[39mreturn\u001b[39;00m \u001b[39mself\u001b[39;49m\u001b[39m.\u001b[39;49mtype_pprinters[\u001b[39mcls\u001b[39;49m](obj, \u001b[39mself\u001b[39;49m, cycle)\n\u001b[1;32m    394\u001b[0m     \u001b[39melse\u001b[39;00m:\n\u001b[1;32m    395\u001b[0m         \u001b[39m# deferred printer\u001b[39;00m\n\u001b[1;32m    396\u001b[0m         printer \u001b[39m=\u001b[39m \u001b[39mself\u001b[39m\u001b[39m.\u001b[39m_in_deferred_types(\u001b[39mcls\u001b[39m)\n",
      "File \u001b[0;32m~/miniconda3/envs/py39/lib/python3.9/site-packages/IPython/lib/pretty.py:692\u001b[0m, in \u001b[0;36m_dict_pprinter_factory.<locals>.inner\u001b[0;34m(obj, p, cycle)\u001b[0m\n\u001b[1;32m    690\u001b[0m     p\u001b[39m.\u001b[39mpretty(key)\n\u001b[1;32m    691\u001b[0m     p\u001b[39m.\u001b[39mtext(\u001b[39m'\u001b[39m\u001b[39m: \u001b[39m\u001b[39m'\u001b[39m)\n\u001b[0;32m--> 692\u001b[0m     p\u001b[39m.\u001b[39;49mpretty(obj[key])\n\u001b[1;32m    693\u001b[0m p\u001b[39m.\u001b[39mend_group(step, end)\n",
      "File \u001b[0;32m~/miniconda3/envs/py39/lib/python3.9/site-packages/IPython/lib/pretty.py:393\u001b[0m, in \u001b[0;36mRepresentationPrinter.pretty\u001b[0;34m(self, obj)\u001b[0m\n\u001b[1;32m    390\u001b[0m \u001b[39mfor\u001b[39;00m \u001b[39mcls\u001b[39m \u001b[39min\u001b[39;00m _get_mro(obj_class):\n\u001b[1;32m    391\u001b[0m     \u001b[39mif\u001b[39;00m \u001b[39mcls\u001b[39m \u001b[39min\u001b[39;00m \u001b[39mself\u001b[39m\u001b[39m.\u001b[39mtype_pprinters:\n\u001b[1;32m    392\u001b[0m         \u001b[39m# printer registered in self.type_pprinters\u001b[39;00m\n\u001b[0;32m--> 393\u001b[0m         \u001b[39mreturn\u001b[39;00m \u001b[39mself\u001b[39;49m\u001b[39m.\u001b[39;49mtype_pprinters[\u001b[39mcls\u001b[39;49m](obj, \u001b[39mself\u001b[39;49m, cycle)\n\u001b[1;32m    394\u001b[0m     \u001b[39melse\u001b[39;00m:\n\u001b[1;32m    395\u001b[0m         \u001b[39m# deferred printer\u001b[39;00m\n\u001b[1;32m    396\u001b[0m         printer \u001b[39m=\u001b[39m \u001b[39mself\u001b[39m\u001b[39m.\u001b[39m_in_deferred_types(\u001b[39mcls\u001b[39m)\n",
      "File \u001b[0;32m~/miniconda3/envs/py39/lib/python3.9/site-packages/IPython/lib/pretty.py:692\u001b[0m, in \u001b[0;36m_dict_pprinter_factory.<locals>.inner\u001b[0;34m(obj, p, cycle)\u001b[0m\n\u001b[1;32m    690\u001b[0m     p\u001b[39m.\u001b[39mpretty(key)\n\u001b[1;32m    691\u001b[0m     p\u001b[39m.\u001b[39mtext(\u001b[39m'\u001b[39m\u001b[39m: \u001b[39m\u001b[39m'\u001b[39m)\n\u001b[0;32m--> 692\u001b[0m     p\u001b[39m.\u001b[39;49mpretty(obj[key])\n\u001b[1;32m    693\u001b[0m p\u001b[39m.\u001b[39mend_group(step, end)\n",
      "File \u001b[0;32m~/miniconda3/envs/py39/lib/python3.9/site-packages/IPython/lib/pretty.py:393\u001b[0m, in \u001b[0;36mRepresentationPrinter.pretty\u001b[0;34m(self, obj)\u001b[0m\n\u001b[1;32m    390\u001b[0m \u001b[39mfor\u001b[39;00m \u001b[39mcls\u001b[39m \u001b[39min\u001b[39;00m _get_mro(obj_class):\n\u001b[1;32m    391\u001b[0m     \u001b[39mif\u001b[39;00m \u001b[39mcls\u001b[39m \u001b[39min\u001b[39;00m \u001b[39mself\u001b[39m\u001b[39m.\u001b[39mtype_pprinters:\n\u001b[1;32m    392\u001b[0m         \u001b[39m# printer registered in self.type_pprinters\u001b[39;00m\n\u001b[0;32m--> 393\u001b[0m         \u001b[39mreturn\u001b[39;00m \u001b[39mself\u001b[39;49m\u001b[39m.\u001b[39;49mtype_pprinters[\u001b[39mcls\u001b[39;49m](obj, \u001b[39mself\u001b[39;49m, cycle)\n\u001b[1;32m    394\u001b[0m     \u001b[39melse\u001b[39;00m:\n\u001b[1;32m    395\u001b[0m         \u001b[39m# deferred printer\u001b[39;00m\n\u001b[1;32m    396\u001b[0m         printer \u001b[39m=\u001b[39m \u001b[39mself\u001b[39m\u001b[39m.\u001b[39m_in_deferred_types(\u001b[39mcls\u001b[39m)\n",
      "File \u001b[0;32m~/miniconda3/envs/py39/lib/python3.9/site-packages/IPython/lib/pretty.py:640\u001b[0m, in \u001b[0;36m_seq_pprinter_factory.<locals>.inner\u001b[0;34m(obj, p, cycle)\u001b[0m\n\u001b[1;32m    638\u001b[0m         p\u001b[39m.\u001b[39mtext(\u001b[39m'\u001b[39m\u001b[39m,\u001b[39m\u001b[39m'\u001b[39m)\n\u001b[1;32m    639\u001b[0m         p\u001b[39m.\u001b[39mbreakable()\n\u001b[0;32m--> 640\u001b[0m     p\u001b[39m.\u001b[39;49mpretty(x)\n\u001b[1;32m    641\u001b[0m \u001b[39mif\u001b[39;00m \u001b[39mlen\u001b[39m(obj) \u001b[39m==\u001b[39m \u001b[39m1\u001b[39m \u001b[39mand\u001b[39;00m \u001b[39misinstance\u001b[39m(obj, \u001b[39mtuple\u001b[39m):\n\u001b[1;32m    642\u001b[0m     \u001b[39m# Special case for 1-item tuples.\u001b[39;00m\n\u001b[1;32m    643\u001b[0m     p\u001b[39m.\u001b[39mtext(\u001b[39m'\u001b[39m\u001b[39m,\u001b[39m\u001b[39m'\u001b[39m)\n",
      "File \u001b[0;32m~/miniconda3/envs/py39/lib/python3.9/site-packages/IPython/lib/pretty.py:393\u001b[0m, in \u001b[0;36mRepresentationPrinter.pretty\u001b[0;34m(self, obj)\u001b[0m\n\u001b[1;32m    390\u001b[0m \u001b[39mfor\u001b[39;00m \u001b[39mcls\u001b[39m \u001b[39min\u001b[39;00m _get_mro(obj_class):\n\u001b[1;32m    391\u001b[0m     \u001b[39mif\u001b[39;00m \u001b[39mcls\u001b[39m \u001b[39min\u001b[39;00m \u001b[39mself\u001b[39m\u001b[39m.\u001b[39mtype_pprinters:\n\u001b[1;32m    392\u001b[0m         \u001b[39m# printer registered in self.type_pprinters\u001b[39;00m\n\u001b[0;32m--> 393\u001b[0m         \u001b[39mreturn\u001b[39;00m \u001b[39mself\u001b[39;49m\u001b[39m.\u001b[39;49mtype_pprinters[\u001b[39mcls\u001b[39;49m](obj, \u001b[39mself\u001b[39;49m, cycle)\n\u001b[1;32m    394\u001b[0m     \u001b[39melse\u001b[39;00m:\n\u001b[1;32m    395\u001b[0m         \u001b[39m# deferred printer\u001b[39;00m\n\u001b[1;32m    396\u001b[0m         printer \u001b[39m=\u001b[39m \u001b[39mself\u001b[39m\u001b[39m.\u001b[39m_in_deferred_types(\u001b[39mcls\u001b[39m)\n",
      "File \u001b[0;32m~/miniconda3/envs/py39/lib/python3.9/site-packages/IPython/lib/pretty.py:780\u001b[0m, in \u001b[0;36m_repr_pprint\u001b[0;34m(obj, p, cycle)\u001b[0m\n\u001b[1;32m    778\u001b[0m output \u001b[39m=\u001b[39m \u001b[39mrepr\u001b[39m(obj)\n\u001b[1;32m    779\u001b[0m lines \u001b[39m=\u001b[39m output\u001b[39m.\u001b[39msplitlines()\n\u001b[0;32m--> 780\u001b[0m \u001b[39mwith\u001b[39;00m p\u001b[39m.\u001b[39mgroup():\n\u001b[1;32m    781\u001b[0m     \u001b[39mfor\u001b[39;00m idx, output_line \u001b[39min\u001b[39;00m \u001b[39menumerate\u001b[39m(lines):\n\u001b[1;32m    782\u001b[0m         \u001b[39mif\u001b[39;00m idx:\n",
      "File \u001b[0;32m~/miniconda3/envs/py39/lib/python3.9/contextlib.py:119\u001b[0m, in \u001b[0;36m_GeneratorContextManager.__enter__\u001b[0;34m(self)\u001b[0m\n\u001b[1;32m    117\u001b[0m \u001b[39mdel\u001b[39;00m \u001b[39mself\u001b[39m\u001b[39m.\u001b[39margs, \u001b[39mself\u001b[39m\u001b[39m.\u001b[39mkwds, \u001b[39mself\u001b[39m\u001b[39m.\u001b[39mfunc\n\u001b[1;32m    118\u001b[0m \u001b[39mtry\u001b[39;00m:\n\u001b[0;32m--> 119\u001b[0m     \u001b[39mreturn\u001b[39;00m \u001b[39mnext\u001b[39;49m(\u001b[39mself\u001b[39;49m\u001b[39m.\u001b[39;49mgen)\n\u001b[1;32m    120\u001b[0m \u001b[39mexcept\u001b[39;00m \u001b[39mStopIteration\u001b[39;00m:\n\u001b[1;32m    121\u001b[0m     \u001b[39mraise\u001b[39;00m \u001b[39mRuntimeError\u001b[39;00m(\u001b[39m\"\u001b[39m\u001b[39mgenerator didn\u001b[39m\u001b[39m'\u001b[39m\u001b[39mt yield\u001b[39m\u001b[39m\"\u001b[39m) \u001b[39mfrom\u001b[39;00m \u001b[39mNone\u001b[39m\n",
      "File \u001b[0;32m~/miniconda3/envs/py39/lib/python3.9/site-packages/IPython/lib/pretty.py:187\u001b[0m, in \u001b[0;36m_PrettyPrinterBase.group\u001b[0;34m(self, indent, open, close)\u001b[0m\n\u001b[1;32m    184\u001b[0m \u001b[39m@contextmanager\u001b[39m\n\u001b[1;32m    185\u001b[0m \u001b[39mdef\u001b[39;00m \u001b[39mgroup\u001b[39m(\u001b[39mself\u001b[39m, indent\u001b[39m=\u001b[39m\u001b[39m0\u001b[39m, \u001b[39mopen\u001b[39m\u001b[39m=\u001b[39m\u001b[39m'\u001b[39m\u001b[39m'\u001b[39m, close\u001b[39m=\u001b[39m\u001b[39m'\u001b[39m\u001b[39m'\u001b[39m):\n\u001b[1;32m    186\u001b[0m     \u001b[39m\"\"\"like begin_group / end_group but for the with statement.\"\"\"\u001b[39;00m\n\u001b[0;32m--> 187\u001b[0m     \u001b[39mself\u001b[39;49m\u001b[39m.\u001b[39;49mbegin_group(indent, \u001b[39mopen\u001b[39;49m)\n\u001b[1;32m    188\u001b[0m     \u001b[39mtry\u001b[39;00m:\n\u001b[1;32m    189\u001b[0m         \u001b[39myield\u001b[39;00m\n",
      "File \u001b[0;32m~/miniconda3/envs/py39/lib/python3.9/site-packages/IPython/lib/pretty.py:291\u001b[0m, in \u001b[0;36mPrettyPrinter.begin_group\u001b[0;34m(self, indent, open)\u001b[0m\n\u001b[1;32m    289\u001b[0m group \u001b[39m=\u001b[39m Group(\u001b[39mself\u001b[39m\u001b[39m.\u001b[39mgroup_stack[\u001b[39m-\u001b[39m\u001b[39m1\u001b[39m]\u001b[39m.\u001b[39mdepth \u001b[39m+\u001b[39m \u001b[39m1\u001b[39m)\n\u001b[1;32m    290\u001b[0m \u001b[39mself\u001b[39m\u001b[39m.\u001b[39mgroup_stack\u001b[39m.\u001b[39mappend(group)\n\u001b[0;32m--> 291\u001b[0m \u001b[39mself\u001b[39;49m\u001b[39m.\u001b[39;49mgroup_queue\u001b[39m.\u001b[39;49menq(group)\n\u001b[1;32m    292\u001b[0m \u001b[39mself\u001b[39m\u001b[39m.\u001b[39mindentation \u001b[39m+\u001b[39m\u001b[39m=\u001b[39m indent\n",
      "File \u001b[0;32m~/miniconda3/envs/py39/lib/python3.9/site-packages/IPython/lib/pretty.py:496\u001b[0m, in \u001b[0;36mGroupQueue.enq\u001b[0;34m(self, group)\u001b[0m\n\u001b[1;32m    495\u001b[0m \u001b[39mdef\u001b[39;00m \u001b[39menq\u001b[39m(\u001b[39mself\u001b[39m, group):\n\u001b[0;32m--> 496\u001b[0m     depth \u001b[39m=\u001b[39m group\u001b[39m.\u001b[39;49mdepth\n\u001b[1;32m    497\u001b[0m     \u001b[39mwhile\u001b[39;00m depth \u001b[39m>\u001b[39m \u001b[39mlen\u001b[39m(\u001b[39mself\u001b[39m\u001b[39m.\u001b[39mqueue) \u001b[39m-\u001b[39m \u001b[39m1\u001b[39m:\n\u001b[1;32m    498\u001b[0m         \u001b[39mself\u001b[39m\u001b[39m.\u001b[39mqueue\u001b[39m.\u001b[39mappend([])\n",
      "\u001b[0;31mKeyboardInterrupt\u001b[0m: "
     ]
    }
   ],
   "source": []
  }
 ],
 "metadata": {
  "kernelspec": {
   "display_name": "py39",
   "language": "python",
   "name": "python3"
  },
  "language_info": {
   "codemirror_mode": {
    "name": "ipython",
    "version": 3
   },
   "file_extension": ".py",
   "mimetype": "text/x-python",
   "name": "python",
   "nbconvert_exporter": "python",
   "pygments_lexer": "ipython3",
   "version": "3.9.13"
  },
  "orig_nbformat": 4,
  "vscode": {
   "interpreter": {
    "hash": "e822874ab5bf40d8e254332eebb695e7fa04bbc22c17addc03c9268ee429b8b4"
   }
  }
 },
 "nbformat": 4,
 "nbformat_minor": 2
}
