{
 "cells": [
  {
   "cell_type": "code",
   "execution_count": 2,
   "metadata": {},
   "outputs": [],
   "source": [
    "import json"
   ]
  },
  {
   "cell_type": "code",
   "execution_count": 3,
   "metadata": {},
   "outputs": [],
   "source": [
    "phoneme_converter = json.load(open(\"phones/converter.json\"))"
   ]
  },
  {
   "cell_type": "code",
   "execution_count": 14,
   "metadata": {},
   "outputs": [],
   "source": [
    "# libri-speechの強制アライメント音素の正規化\n",
    "import re\n",
    "import json\n",
    "file_name_to_normalized_phones = {}\n",
    "file_name_to_normalized_phones_no_bcl = {}\n",
    "not_covered_phones = set()\n",
    "with open(\"phones/text.phones.librispeech\", \"r\") as f:\n",
    "    for line in f:\n",
    "        line = line.strip()\n",
    "        meta = line.split(\" \")[0].split(\"-\")\n",
    "        speaker_id, chapter_id, utterance_id = meta[1], meta[2], meta[3]\n",
    "        file_name = f\"{speaker_id}-{chapter_id}-{utterance_id}\"\n",
    "        phones = line.split(\" \")[1:]\n",
    "        normalized_phones = []\n",
    "        normalized_phone_no_bcl = []\n",
    "        for phone in phones:\n",
    "            phone = phone.lower()\n",
    "            # remove digit from phone\n",
    "            phone = re.sub(r\"\\d\", \"\", phone)\n",
    "            normalized_phone = phoneme_converter.get(phone)\n",
    "\n",
    "            normalized_phones.append(normalized_phone)\n",
    "            if normalized_phone != \"bcl\":\n",
    "                normalized_phone_no_bcl.append(normalized_phone)\n",
    "\n",
    "\n",
    "        file_name_to_normalized_phones[file_name] = normalized_phones\n",
    "        file_name_to_normalized_phones_no_bcl[file_name] = normalized_phone_no_bcl\n",
    "\n",
    "with open(\"phones/librispeech_normalized_phones.json\", \"w\") as f:\n",
    "    json.dump(file_name_to_normalized_phones, f, indent=4)\n",
    "with open(\"phones/librispeech_normalized_phones_no_bcl.json\", \"w\") as f:\n",
    "    json.dump(file_name_to_normalized_phones_no_bcl, f, indent=4)"
   ]
  },
  {
   "cell_type": "code",
   "execution_count": 4,
   "metadata": {},
   "outputs": [],
   "source": [
    "# tedlium2の強制アライメント音素の正規化\n",
    "import re\n",
    "import json\n",
    "normalized_phones_dict = {}\n",
    "normalized_phones_no_bcl_dict = {}\n",
    "not_covered_phones = set()\n",
    "with open(\"phones/text.phones.tedlium2\", \"r\") as f:\n",
    "    for line in f:\n",
    "        line = line.strip()\n",
    "        meta = line.split(\" \")[0].split(\"-\")\n",
    "        if meta[0] == \"sp0.9\" or meta[0] == \"sp1.1\":\n",
    "            continue\n",
    "        talk_id, start_sec_str, end_sec_str = meta[0], meta[1], meta[2]\n",
    "        identifier = f\"{talk_id}-{start_sec_str}-{end_sec_str}\"\n",
    "        phones = line.split(\" \")[1:]\n",
    "        normalized_phones = []\n",
    "        normalized_phones_no_bcl = []\n",
    "        for phone in phones:\n",
    "            phone = phone.lower()\n",
    "            # remove digit from phone\n",
    "            phone = re.sub(r\"_\\w\", \"\", phone)\n",
    "            normalized_phone = phoneme_converter.get(phone)\n",
    "\n",
    "            normalized_phones.append(normalized_phone)\n",
    "            if normalized_phone != \"bcl\":\n",
    "                normalized_phones_no_bcl.append(normalized_phone)\n",
    "\n",
    "\n",
    "        normalized_phones_dict[identifier] = normalized_phones\n",
    "        normalized_phones_no_bcl_dict[identifier] = normalized_phones_no_bcl\n",
    "\n",
    "with open(\"phones/ted2_normalized_phones.json\", \"w\") as f:\n",
    "    json.dump(normalized_phones_dict, f, indent=4)\n",
    "with open(\"phones/ted2_normalized_phones_no_bcl.json\", \"w\") as f:\n",
    "    json.dump(normalized_phones_no_bcl_dict, f, indent=4)"
   ]
  },
  {
   "cell_type": "code",
   "execution_count": null,
   "metadata": {},
   "outputs": [],
   "source": []
  },
  {
   "cell_type": "code",
   "execution_count": null,
   "metadata": {},
   "outputs": [],
   "source": []
  }
 ],
 "metadata": {
  "kernelspec": {
   "display_name": "Python 3.9.13 ('py39')",
   "language": "python",
   "name": "python3"
  },
  "language_info": {
   "codemirror_mode": {
    "name": "ipython",
    "version": 3
   },
   "file_extension": ".py",
   "mimetype": "text/x-python",
   "name": "python",
   "nbconvert_exporter": "python",
   "pygments_lexer": "ipython3",
   "version": "3.9.13"
  },
  "orig_nbformat": 4,
  "vscode": {
   "interpreter": {
    "hash": "e822874ab5bf40d8e254332eebb695e7fa04bbc22c17addc03c9268ee429b8b4"
   }
  }
 },
 "nbformat": 4,
 "nbformat_minor": 2
}
