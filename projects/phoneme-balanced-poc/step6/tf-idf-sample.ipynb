{
 "cells": [
  {
   "cell_type": "code",
   "execution_count": 28,
   "metadata": {},
   "outputs": [],
   "source": [
    "from data import LibriLightDataset\n",
    "import json\n",
    "import numpy as np\n",
    "import torch\n",
    "import copy\n",
    "train_dataset = LibriLightDataset(\n",
    "    subset=\"9h\",\n",
    "    identifier_to_phones_file_path=\"phones/librispeech_normalized_phones_no_bcl.json\",\n",
    "    vocab_file_path=\"vocabs/libri-light_9h.json\"\n",
    ")\n",
    "test_dataset = LibriLightDataset(\n",
    "    subset=\"1h\",\n",
    "    identifier_to_phones_file_path=\"phones/librispeech_normalized_phones_no_bcl.json\",\n",
    "    vocab_file_path=\"vocabs/libri-light_9h.json\"\n",
    ")\n"
   ]
  },
  {
   "cell_type": "code",
   "execution_count": 30,
   "metadata": {},
   "outputs": [],
   "source": [
    "target_phonemes = set(\n",
    "    [\"aa\",\n",
    "    \"ae\",\n",
    "    \"ah\",\n",
    "    \"aw\",\n",
    "    \"ay\",\n",
    "    \"b\",\n",
    "    \"ch\",\n",
    "    \"d\",\n",
    "    \"dh\",\n",
    "    \"dx\",\n",
    "    \"eh\",\n",
    "    \"axr\",\n",
    "    \"ey\",\n",
    "    \"f\",\n",
    "    \"g\",\n",
    "    \"bcl\",\n",
    "    \"hh\",\n",
    "    \"ih\",\n",
    "    \"iy\",\n",
    "    \"jh\",\n",
    "    \"k\",\n",
    "    \"el\",\n",
    "    \"em\",\n",
    "    \"en\",\n",
    "    \"eng\",\n",
    "    \"ow\",\n",
    "    \"oy\",\n",
    "    \"p\",\n",
    "    \"r\",\n",
    "    \"s\",\n",
    "    \"sh\",\n",
    "    \"t\",\n",
    "    \"th\",\n",
    "    \"uh\",\n",
    "    \"uw\",\n",
    "    \"v\",\n",
    "    \"w\",\n",
    "    \"y\",\n",
    "    \"z\",]\n",
    ")"
   ]
  },
  {
   "cell_type": "code",
   "execution_count": 31,
   "metadata": {},
   "outputs": [],
   "source": [
    "phone_to_idx = {phone: idx for idx, phone in enumerate(target_phonemes)}"
   ]
  },
  {
   "cell_type": "code",
   "execution_count": 35,
   "metadata": {},
   "outputs": [],
   "source": [
    "def calculate_tf_idf_over_ds(dataset: torch.utils.data.Dataset):\n",
    "    target_phones = set(\n",
    "        [\"aa\",\n",
    "        \"ae\",\n",
    "        \"ah\",\n",
    "        \"aw\",\n",
    "        \"ay\",\n",
    "        \"b\",\n",
    "        \"ch\",\n",
    "        \"d\",\n",
    "        \"dh\",\n",
    "        \"dx\",\n",
    "        \"eh\",\n",
    "        \"axr\",\n",
    "        \"ey\",\n",
    "        \"f\",\n",
    "        \"g\",\n",
    "        \"bcl\",\n",
    "        \"hh\",\n",
    "        \"ih\",\n",
    "        \"iy\",\n",
    "        \"jh\",\n",
    "        \"k\",\n",
    "        \"el\",\n",
    "        \"em\",\n",
    "        \"en\",\n",
    "        \"eng\",\n",
    "        \"ow\",\n",
    "        \"oy\",\n",
    "        \"p\",\n",
    "        \"r\",\n",
    "        \"s\",\n",
    "        \"sh\",\n",
    "        \"t\",\n",
    "        \"th\",\n",
    "        \"uh\",\n",
    "        \"uw\",\n",
    "        \"v\",\n",
    "        \"w\",\n",
    "        \"y\",\n",
    "    \"z\",]\n",
    "    )\n",
    "    phone_to_idx = {phone: idx for idx, phone in enumerate(target_phones)}\n",
    "    df = np.zeros(39, dtype=np.float32)\n",
    "    tf = np.zeros(39, dtype=np.float32)\n",
    "\n",
    "    for idx in range(len(dataset)):\n",
    "        phones = dataset[idx][-1]\n",
    "        unique_phones = set(phones)\n",
    "        for target_phone in list(target_phones):\n",
    "            if target_phone in unique_phones:\n",
    "                df[phone_to_idx[target_phone]] += 1\n",
    "        for phone in phones:\n",
    "            if phone is not None:\n",
    "                tf[phone_to_idx[phone]] += 1\n",
    "                \n",
    "    tf = tf / tf.sum()\n",
    "\n",
    "    df = df / len(dataset)\n",
    "    df += 1e-8\n",
    "    idf = np.log(1 / df)\n",
    "\n",
    "    return tf * idf"
   ]
  },
  {
   "cell_type": "code",
   "execution_count": 52,
   "metadata": {},
   "outputs": [],
   "source": [
    "def cos_sim(a, b):\n",
    "    a += 1e-8\n",
    "    b += 1e-8\n",
    "    return np.dot(a, b) / (np.linalg.norm(a) * np.linalg.norm(b))"
   ]
  },
  {
   "cell_type": "code",
   "execution_count": 58,
   "metadata": {},
   "outputs": [],
   "source": [
    "test_tf_idf_over_ds = calculate_tf_idf_over_ds(test_dataset)"
   ]
  },
  {
   "cell_type": "code",
   "execution_count": 59,
   "metadata": {},
   "outputs": [
    {
     "name": "stdout",
     "output_type": "stream",
     "text": [
      "97.43% Inner: 100.00%\r"
     ]
    }
   ],
   "source": [
    "token_counter = np.zeros(39, dtype=np.float32)\n",
    "document_counter = np.zeros(39, dtype=np.float32)\n",
    "not_sampled_indices = set(range(len(train_dataset)))\n",
    "sampled_indices = set()\n",
    "limit_duration = 600\n",
    "sampled_duration = 0\n",
    "while sampled_duration < limit_duration:\n",
    "    similarities = {}\n",
    "    count = 0\n",
    "    for idx in not_sampled_indices:\n",
    "        count += 1\n",
    "        print(f\"{sampled_duration / limit_duration * 100:.2f}% Inner: {count / len(not_sampled_indices) * 100:.2f}%\", end=\"\\r\")\n",
    "        token_counter_copy = copy.deepcopy(token_counter)\n",
    "        document_counter_copy = copy.deepcopy(document_counter)\n",
    "        phones = train_dataset[idx][-1]\n",
    "        unique_phones = set(phones)\n",
    "        for target_phone in list(target_phonemes):\n",
    "            if target_phone in unique_phones:\n",
    "                document_counter_copy[phone_to_idx[target_phone]] += 1\n",
    "        for phone in phones:\n",
    "            if phone is not None:\n",
    "                token_counter_copy[phone_to_idx[phone]] += 1\n",
    "        tf = token_counter_copy / token_counter_copy.sum()\n",
    "        df = document_counter_copy / (len(sampled_indices) + 1)\n",
    "        df += 1e-8\n",
    "        idf = np.log(1 / df)\n",
    "        sampled_tf_idf_over_ds = tf * idf\n",
    "        similarity = cos_sim(test_tf_idf_over_ds, sampled_tf_idf_over_ds)\n",
    "        similarities[idx] = similarity\n",
    "\n",
    "    max_similaritiy_idx = max(similarities, key=similarities.get)\n",
    "    sampled_indices.add(max_similaritiy_idx)\n",
    "    not_sampled_indices.remove(max_similaritiy_idx)\n",
    "    sampled_duration += train_dataset[max_similaritiy_idx][2] / 16000\n",
    "    phones = train_dataset[max_similaritiy_idx][-1]\n",
    "    unique_phones = set(phones)\n",
    "    for target_phone in list(target_phonemes):\n",
    "        if target_phone in unique_phones:\n",
    "            document_counter[phone_to_idx[target_phone]] += 1\n",
    "    for phone in phones:\n",
    "        if phone is not None:\n",
    "            token_counter[phone_to_idx[phone]] += 1"
   ]
  },
  {
   "cell_type": "code",
   "execution_count": 60,
   "metadata": {},
   "outputs": [],
   "source": [
    "import pickle\n",
    "sampled_dataset = torch.utils.data.Subset(train_dataset, list(sampled_indices))\n",
    "with open(\"max_sim_sampled_dataset.pkl\", \"wb\") as f:\n",
    "    pickle.dump(sampled_dataset, f)"
   ]
  },
  {
   "cell_type": "code",
   "execution_count": null,
   "metadata": {},
   "outputs": [],
   "source": []
  }
 ],
 "metadata": {
  "kernelspec": {
   "display_name": "py39",
   "language": "python",
   "name": "python3"
  },
  "language_info": {
   "codemirror_mode": {
    "name": "ipython",
    "version": 3
   },
   "file_extension": ".py",
   "mimetype": "text/x-python",
   "name": "python",
   "nbconvert_exporter": "python",
   "pygments_lexer": "ipython3",
   "version": "3.9.13 (main, Aug 25 2022, 23:26:10) \n[GCC 11.2.0]"
  },
  "orig_nbformat": 4,
  "vscode": {
   "interpreter": {
    "hash": "e822874ab5bf40d8e254332eebb695e7fa04bbc22c17addc03c9268ee429b8b4"
   }
  }
 },
 "nbformat": 4,
 "nbformat_minor": 2
}
